{
  "nbformat": 4,
  "nbformat_minor": 0,
  "metadata": {
    "accelerator": "GPU",
    "colab": {
      "name": "BERT 영어 friends 데이터_NLP.ipynb",
      "provenance": [],
      "collapsed_sections": [],
      "toc_visible": true,
      "machine_shape": "hm",
      "include_colab_link": true
    },
    "kernelspec": {
      "display_name": "Python 3",
      "name": "python3"
    },
    "widgets": {
      "application/vnd.jupyter.widget-state+json": {
        "21a4373afc994fbc8fb3a325fb35746a": {
          "model_module": "@jupyter-widgets/controls",
          "model_name": "HBoxModel",
          "state": {
            "_view_name": "HBoxView",
            "_dom_classes": [],
            "_model_name": "HBoxModel",
            "_view_module": "@jupyter-widgets/controls",
            "_model_module_version": "1.5.0",
            "_view_count": null,
            "_view_module_version": "1.5.0",
            "box_style": "",
            "layout": "IPY_MODEL_d5f3276ca91b43b8bb18b5ff9415eb1a",
            "_model_module": "@jupyter-widgets/controls",
            "children": [
              "IPY_MODEL_7654ffcbddcf4555a3423d4cd71c2000",
              "IPY_MODEL_85520d666dbe4453bc06e73885c78398"
            ]
          }
        },
        "d5f3276ca91b43b8bb18b5ff9415eb1a": {
          "model_module": "@jupyter-widgets/base",
          "model_name": "LayoutModel",
          "state": {
            "_view_name": "LayoutView",
            "grid_template_rows": null,
            "right": null,
            "justify_content": null,
            "_view_module": "@jupyter-widgets/base",
            "overflow": null,
            "_model_module_version": "1.2.0",
            "_view_count": null,
            "flex_flow": null,
            "width": null,
            "min_width": null,
            "border": null,
            "align_items": null,
            "bottom": null,
            "_model_module": "@jupyter-widgets/base",
            "top": null,
            "grid_column": null,
            "overflow_y": null,
            "overflow_x": null,
            "grid_auto_flow": null,
            "grid_area": null,
            "grid_template_columns": null,
            "flex": null,
            "_model_name": "LayoutModel",
            "justify_items": null,
            "grid_row": null,
            "max_height": null,
            "align_content": null,
            "visibility": null,
            "align_self": null,
            "height": null,
            "min_height": null,
            "padding": null,
            "grid_auto_rows": null,
            "grid_gap": null,
            "max_width": null,
            "order": null,
            "_view_module_version": "1.2.0",
            "grid_template_areas": null,
            "object_position": null,
            "object_fit": null,
            "grid_auto_columns": null,
            "margin": null,
            "display": null,
            "left": null
          }
        },
        "7654ffcbddcf4555a3423d4cd71c2000": {
          "model_module": "@jupyter-widgets/controls",
          "model_name": "FloatProgressModel",
          "state": {
            "_view_name": "ProgressView",
            "style": "IPY_MODEL_ae0790efde124ddd8e7f3ed3cb8126e8",
            "_dom_classes": [],
            "description": "Downloading: 100%",
            "_model_name": "FloatProgressModel",
            "bar_style": "success",
            "max": 231508,
            "_view_module": "@jupyter-widgets/controls",
            "_model_module_version": "1.5.0",
            "value": 231508,
            "_view_count": null,
            "_view_module_version": "1.5.0",
            "orientation": "horizontal",
            "min": 0,
            "description_tooltip": null,
            "_model_module": "@jupyter-widgets/controls",
            "layout": "IPY_MODEL_fce86f2e3737431888622a7aac3ac8e0"
          }
        },
        "85520d666dbe4453bc06e73885c78398": {
          "model_module": "@jupyter-widgets/controls",
          "model_name": "HTMLModel",
          "state": {
            "_view_name": "HTMLView",
            "style": "IPY_MODEL_8ef4fc43ad474b6b9c401b2a989151b1",
            "_dom_classes": [],
            "description": "",
            "_model_name": "HTMLModel",
            "placeholder": "​",
            "_view_module": "@jupyter-widgets/controls",
            "_model_module_version": "1.5.0",
            "value": " 232k/232k [00:00&lt;00:00, 637kB/s]",
            "_view_count": null,
            "_view_module_version": "1.5.0",
            "description_tooltip": null,
            "_model_module": "@jupyter-widgets/controls",
            "layout": "IPY_MODEL_ac1917f3cb6d4d4589aba11cdde62633"
          }
        },
        "ae0790efde124ddd8e7f3ed3cb8126e8": {
          "model_module": "@jupyter-widgets/controls",
          "model_name": "ProgressStyleModel",
          "state": {
            "_view_name": "StyleView",
            "_model_name": "ProgressStyleModel",
            "description_width": "initial",
            "_view_module": "@jupyter-widgets/base",
            "_model_module_version": "1.5.0",
            "_view_count": null,
            "_view_module_version": "1.2.0",
            "bar_color": null,
            "_model_module": "@jupyter-widgets/controls"
          }
        },
        "fce86f2e3737431888622a7aac3ac8e0": {
          "model_module": "@jupyter-widgets/base",
          "model_name": "LayoutModel",
          "state": {
            "_view_name": "LayoutView",
            "grid_template_rows": null,
            "right": null,
            "justify_content": null,
            "_view_module": "@jupyter-widgets/base",
            "overflow": null,
            "_model_module_version": "1.2.0",
            "_view_count": null,
            "flex_flow": null,
            "width": null,
            "min_width": null,
            "border": null,
            "align_items": null,
            "bottom": null,
            "_model_module": "@jupyter-widgets/base",
            "top": null,
            "grid_column": null,
            "overflow_y": null,
            "overflow_x": null,
            "grid_auto_flow": null,
            "grid_area": null,
            "grid_template_columns": null,
            "flex": null,
            "_model_name": "LayoutModel",
            "justify_items": null,
            "grid_row": null,
            "max_height": null,
            "align_content": null,
            "visibility": null,
            "align_self": null,
            "height": null,
            "min_height": null,
            "padding": null,
            "grid_auto_rows": null,
            "grid_gap": null,
            "max_width": null,
            "order": null,
            "_view_module_version": "1.2.0",
            "grid_template_areas": null,
            "object_position": null,
            "object_fit": null,
            "grid_auto_columns": null,
            "margin": null,
            "display": null,
            "left": null
          }
        },
        "8ef4fc43ad474b6b9c401b2a989151b1": {
          "model_module": "@jupyter-widgets/controls",
          "model_name": "DescriptionStyleModel",
          "state": {
            "_view_name": "StyleView",
            "_model_name": "DescriptionStyleModel",
            "description_width": "",
            "_view_module": "@jupyter-widgets/base",
            "_model_module_version": "1.5.0",
            "_view_count": null,
            "_view_module_version": "1.2.0",
            "_model_module": "@jupyter-widgets/controls"
          }
        },
        "ac1917f3cb6d4d4589aba11cdde62633": {
          "model_module": "@jupyter-widgets/base",
          "model_name": "LayoutModel",
          "state": {
            "_view_name": "LayoutView",
            "grid_template_rows": null,
            "right": null,
            "justify_content": null,
            "_view_module": "@jupyter-widgets/base",
            "overflow": null,
            "_model_module_version": "1.2.0",
            "_view_count": null,
            "flex_flow": null,
            "width": null,
            "min_width": null,
            "border": null,
            "align_items": null,
            "bottom": null,
            "_model_module": "@jupyter-widgets/base",
            "top": null,
            "grid_column": null,
            "overflow_y": null,
            "overflow_x": null,
            "grid_auto_flow": null,
            "grid_area": null,
            "grid_template_columns": null,
            "flex": null,
            "_model_name": "LayoutModel",
            "justify_items": null,
            "grid_row": null,
            "max_height": null,
            "align_content": null,
            "visibility": null,
            "align_self": null,
            "height": null,
            "min_height": null,
            "padding": null,
            "grid_auto_rows": null,
            "grid_gap": null,
            "max_width": null,
            "order": null,
            "_view_module_version": "1.2.0",
            "grid_template_areas": null,
            "object_position": null,
            "object_fit": null,
            "grid_auto_columns": null,
            "margin": null,
            "display": null,
            "left": null
          }
        },
        "0ec760bae72045889673f9b0429c94da": {
          "model_module": "@jupyter-widgets/controls",
          "model_name": "HBoxModel",
          "state": {
            "_view_name": "HBoxView",
            "_dom_classes": [],
            "_model_name": "HBoxModel",
            "_view_module": "@jupyter-widgets/controls",
            "_model_module_version": "1.5.0",
            "_view_count": null,
            "_view_module_version": "1.5.0",
            "box_style": "",
            "layout": "IPY_MODEL_9fc65ba93d8f44fcadfaafa57141e362",
            "_model_module": "@jupyter-widgets/controls",
            "children": [
              "IPY_MODEL_9d80b26cfbb14fdf9f2c0f64872a7895",
              "IPY_MODEL_73232fe1f1d840eeac80b80831e62d67"
            ]
          }
        },
        "9fc65ba93d8f44fcadfaafa57141e362": {
          "model_module": "@jupyter-widgets/base",
          "model_name": "LayoutModel",
          "state": {
            "_view_name": "LayoutView",
            "grid_template_rows": null,
            "right": null,
            "justify_content": null,
            "_view_module": "@jupyter-widgets/base",
            "overflow": null,
            "_model_module_version": "1.2.0",
            "_view_count": null,
            "flex_flow": null,
            "width": null,
            "min_width": null,
            "border": null,
            "align_items": null,
            "bottom": null,
            "_model_module": "@jupyter-widgets/base",
            "top": null,
            "grid_column": null,
            "overflow_y": null,
            "overflow_x": null,
            "grid_auto_flow": null,
            "grid_area": null,
            "grid_template_columns": null,
            "flex": null,
            "_model_name": "LayoutModel",
            "justify_items": null,
            "grid_row": null,
            "max_height": null,
            "align_content": null,
            "visibility": null,
            "align_self": null,
            "height": null,
            "min_height": null,
            "padding": null,
            "grid_auto_rows": null,
            "grid_gap": null,
            "max_width": null,
            "order": null,
            "_view_module_version": "1.2.0",
            "grid_template_areas": null,
            "object_position": null,
            "object_fit": null,
            "grid_auto_columns": null,
            "margin": null,
            "display": null,
            "left": null
          }
        },
        "9d80b26cfbb14fdf9f2c0f64872a7895": {
          "model_module": "@jupyter-widgets/controls",
          "model_name": "FloatProgressModel",
          "state": {
            "_view_name": "ProgressView",
            "style": "IPY_MODEL_877a01a14577459d9dd54265fd5957ec",
            "_dom_classes": [],
            "description": "Downloading: 100%",
            "_model_name": "FloatProgressModel",
            "bar_style": "success",
            "max": 433,
            "_view_module": "@jupyter-widgets/controls",
            "_model_module_version": "1.5.0",
            "value": 433,
            "_view_count": null,
            "_view_module_version": "1.5.0",
            "orientation": "horizontal",
            "min": 0,
            "description_tooltip": null,
            "_model_module": "@jupyter-widgets/controls",
            "layout": "IPY_MODEL_39e417200b61419fb368658fbe293d5f"
          }
        },
        "73232fe1f1d840eeac80b80831e62d67": {
          "model_module": "@jupyter-widgets/controls",
          "model_name": "HTMLModel",
          "state": {
            "_view_name": "HTMLView",
            "style": "IPY_MODEL_ada6a024a2ce4a3fa16a9c75bd744798",
            "_dom_classes": [],
            "description": "",
            "_model_name": "HTMLModel",
            "placeholder": "​",
            "_view_module": "@jupyter-widgets/controls",
            "_model_module_version": "1.5.0",
            "value": " 433/433 [00:00&lt;00:00, 1.12kB/s]",
            "_view_count": null,
            "_view_module_version": "1.5.0",
            "description_tooltip": null,
            "_model_module": "@jupyter-widgets/controls",
            "layout": "IPY_MODEL_96ef43a1cffd42abaae2b96920d517ab"
          }
        },
        "877a01a14577459d9dd54265fd5957ec": {
          "model_module": "@jupyter-widgets/controls",
          "model_name": "ProgressStyleModel",
          "state": {
            "_view_name": "StyleView",
            "_model_name": "ProgressStyleModel",
            "description_width": "initial",
            "_view_module": "@jupyter-widgets/base",
            "_model_module_version": "1.5.0",
            "_view_count": null,
            "_view_module_version": "1.2.0",
            "bar_color": null,
            "_model_module": "@jupyter-widgets/controls"
          }
        },
        "39e417200b61419fb368658fbe293d5f": {
          "model_module": "@jupyter-widgets/base",
          "model_name": "LayoutModel",
          "state": {
            "_view_name": "LayoutView",
            "grid_template_rows": null,
            "right": null,
            "justify_content": null,
            "_view_module": "@jupyter-widgets/base",
            "overflow": null,
            "_model_module_version": "1.2.0",
            "_view_count": null,
            "flex_flow": null,
            "width": null,
            "min_width": null,
            "border": null,
            "align_items": null,
            "bottom": null,
            "_model_module": "@jupyter-widgets/base",
            "top": null,
            "grid_column": null,
            "overflow_y": null,
            "overflow_x": null,
            "grid_auto_flow": null,
            "grid_area": null,
            "grid_template_columns": null,
            "flex": null,
            "_model_name": "LayoutModel",
            "justify_items": null,
            "grid_row": null,
            "max_height": null,
            "align_content": null,
            "visibility": null,
            "align_self": null,
            "height": null,
            "min_height": null,
            "padding": null,
            "grid_auto_rows": null,
            "grid_gap": null,
            "max_width": null,
            "order": null,
            "_view_module_version": "1.2.0",
            "grid_template_areas": null,
            "object_position": null,
            "object_fit": null,
            "grid_auto_columns": null,
            "margin": null,
            "display": null,
            "left": null
          }
        },
        "ada6a024a2ce4a3fa16a9c75bd744798": {
          "model_module": "@jupyter-widgets/controls",
          "model_name": "DescriptionStyleModel",
          "state": {
            "_view_name": "StyleView",
            "_model_name": "DescriptionStyleModel",
            "description_width": "",
            "_view_module": "@jupyter-widgets/base",
            "_model_module_version": "1.5.0",
            "_view_count": null,
            "_view_module_version": "1.2.0",
            "_model_module": "@jupyter-widgets/controls"
          }
        },
        "96ef43a1cffd42abaae2b96920d517ab": {
          "model_module": "@jupyter-widgets/base",
          "model_name": "LayoutModel",
          "state": {
            "_view_name": "LayoutView",
            "grid_template_rows": null,
            "right": null,
            "justify_content": null,
            "_view_module": "@jupyter-widgets/base",
            "overflow": null,
            "_model_module_version": "1.2.0",
            "_view_count": null,
            "flex_flow": null,
            "width": null,
            "min_width": null,
            "border": null,
            "align_items": null,
            "bottom": null,
            "_model_module": "@jupyter-widgets/base",
            "top": null,
            "grid_column": null,
            "overflow_y": null,
            "overflow_x": null,
            "grid_auto_flow": null,
            "grid_area": null,
            "grid_template_columns": null,
            "flex": null,
            "_model_name": "LayoutModel",
            "justify_items": null,
            "grid_row": null,
            "max_height": null,
            "align_content": null,
            "visibility": null,
            "align_self": null,
            "height": null,
            "min_height": null,
            "padding": null,
            "grid_auto_rows": null,
            "grid_gap": null,
            "max_width": null,
            "order": null,
            "_view_module_version": "1.2.0",
            "grid_template_areas": null,
            "object_position": null,
            "object_fit": null,
            "grid_auto_columns": null,
            "margin": null,
            "display": null,
            "left": null
          }
        },
        "800ba59e190c4338ab5b857cea931e1e": {
          "model_module": "@jupyter-widgets/controls",
          "model_name": "HBoxModel",
          "state": {
            "_view_name": "HBoxView",
            "_dom_classes": [],
            "_model_name": "HBoxModel",
            "_view_module": "@jupyter-widgets/controls",
            "_model_module_version": "1.5.0",
            "_view_count": null,
            "_view_module_version": "1.5.0",
            "box_style": "",
            "layout": "IPY_MODEL_f290fd124d7d4727b69a0c765685a4d2",
            "_model_module": "@jupyter-widgets/controls",
            "children": [
              "IPY_MODEL_21c46db722054921b32bb99b0ab66901",
              "IPY_MODEL_48e7e9e12dd8455a81faaa30a6d5132c"
            ]
          }
        },
        "f290fd124d7d4727b69a0c765685a4d2": {
          "model_module": "@jupyter-widgets/base",
          "model_name": "LayoutModel",
          "state": {
            "_view_name": "LayoutView",
            "grid_template_rows": null,
            "right": null,
            "justify_content": null,
            "_view_module": "@jupyter-widgets/base",
            "overflow": null,
            "_model_module_version": "1.2.0",
            "_view_count": null,
            "flex_flow": null,
            "width": null,
            "min_width": null,
            "border": null,
            "align_items": null,
            "bottom": null,
            "_model_module": "@jupyter-widgets/base",
            "top": null,
            "grid_column": null,
            "overflow_y": null,
            "overflow_x": null,
            "grid_auto_flow": null,
            "grid_area": null,
            "grid_template_columns": null,
            "flex": null,
            "_model_name": "LayoutModel",
            "justify_items": null,
            "grid_row": null,
            "max_height": null,
            "align_content": null,
            "visibility": null,
            "align_self": null,
            "height": null,
            "min_height": null,
            "padding": null,
            "grid_auto_rows": null,
            "grid_gap": null,
            "max_width": null,
            "order": null,
            "_view_module_version": "1.2.0",
            "grid_template_areas": null,
            "object_position": null,
            "object_fit": null,
            "grid_auto_columns": null,
            "margin": null,
            "display": null,
            "left": null
          }
        },
        "21c46db722054921b32bb99b0ab66901": {
          "model_module": "@jupyter-widgets/controls",
          "model_name": "FloatProgressModel",
          "state": {
            "_view_name": "ProgressView",
            "style": "IPY_MODEL_471fe002583543b4a05ac4d16ee6e800",
            "_dom_classes": [],
            "description": "Downloading: 100%",
            "_model_name": "FloatProgressModel",
            "bar_style": "success",
            "max": 440473133,
            "_view_module": "@jupyter-widgets/controls",
            "_model_module_version": "1.5.0",
            "value": 440473133,
            "_view_count": null,
            "_view_module_version": "1.5.0",
            "orientation": "horizontal",
            "min": 0,
            "description_tooltip": null,
            "_model_module": "@jupyter-widgets/controls",
            "layout": "IPY_MODEL_94902399c6824398bd3d9d9d075cc7e0"
          }
        },
        "48e7e9e12dd8455a81faaa30a6d5132c": {
          "model_module": "@jupyter-widgets/controls",
          "model_name": "HTMLModel",
          "state": {
            "_view_name": "HTMLView",
            "style": "IPY_MODEL_8ebb95e598bd4b60a3578b3eebb025d2",
            "_dom_classes": [],
            "description": "",
            "_model_name": "HTMLModel",
            "placeholder": "​",
            "_view_module": "@jupyter-widgets/controls",
            "_model_module_version": "1.5.0",
            "value": " 440M/440M [00:09&lt;00:00, 48.6MB/s]",
            "_view_count": null,
            "_view_module_version": "1.5.0",
            "description_tooltip": null,
            "_model_module": "@jupyter-widgets/controls",
            "layout": "IPY_MODEL_08b52850356f4c89bd4ea3c034990ec2"
          }
        },
        "471fe002583543b4a05ac4d16ee6e800": {
          "model_module": "@jupyter-widgets/controls",
          "model_name": "ProgressStyleModel",
          "state": {
            "_view_name": "StyleView",
            "_model_name": "ProgressStyleModel",
            "description_width": "initial",
            "_view_module": "@jupyter-widgets/base",
            "_model_module_version": "1.5.0",
            "_view_count": null,
            "_view_module_version": "1.2.0",
            "bar_color": null,
            "_model_module": "@jupyter-widgets/controls"
          }
        },
        "94902399c6824398bd3d9d9d075cc7e0": {
          "model_module": "@jupyter-widgets/base",
          "model_name": "LayoutModel",
          "state": {
            "_view_name": "LayoutView",
            "grid_template_rows": null,
            "right": null,
            "justify_content": null,
            "_view_module": "@jupyter-widgets/base",
            "overflow": null,
            "_model_module_version": "1.2.0",
            "_view_count": null,
            "flex_flow": null,
            "width": null,
            "min_width": null,
            "border": null,
            "align_items": null,
            "bottom": null,
            "_model_module": "@jupyter-widgets/base",
            "top": null,
            "grid_column": null,
            "overflow_y": null,
            "overflow_x": null,
            "grid_auto_flow": null,
            "grid_area": null,
            "grid_template_columns": null,
            "flex": null,
            "_model_name": "LayoutModel",
            "justify_items": null,
            "grid_row": null,
            "max_height": null,
            "align_content": null,
            "visibility": null,
            "align_self": null,
            "height": null,
            "min_height": null,
            "padding": null,
            "grid_auto_rows": null,
            "grid_gap": null,
            "max_width": null,
            "order": null,
            "_view_module_version": "1.2.0",
            "grid_template_areas": null,
            "object_position": null,
            "object_fit": null,
            "grid_auto_columns": null,
            "margin": null,
            "display": null,
            "left": null
          }
        },
        "8ebb95e598bd4b60a3578b3eebb025d2": {
          "model_module": "@jupyter-widgets/controls",
          "model_name": "DescriptionStyleModel",
          "state": {
            "_view_name": "StyleView",
            "_model_name": "DescriptionStyleModel",
            "description_width": "",
            "_view_module": "@jupyter-widgets/base",
            "_model_module_version": "1.5.0",
            "_view_count": null,
            "_view_module_version": "1.2.0",
            "_model_module": "@jupyter-widgets/controls"
          }
        },
        "08b52850356f4c89bd4ea3c034990ec2": {
          "model_module": "@jupyter-widgets/base",
          "model_name": "LayoutModel",
          "state": {
            "_view_name": "LayoutView",
            "grid_template_rows": null,
            "right": null,
            "justify_content": null,
            "_view_module": "@jupyter-widgets/base",
            "overflow": null,
            "_model_module_version": "1.2.0",
            "_view_count": null,
            "flex_flow": null,
            "width": null,
            "min_width": null,
            "border": null,
            "align_items": null,
            "bottom": null,
            "_model_module": "@jupyter-widgets/base",
            "top": null,
            "grid_column": null,
            "overflow_y": null,
            "overflow_x": null,
            "grid_auto_flow": null,
            "grid_area": null,
            "grid_template_columns": null,
            "flex": null,
            "_model_name": "LayoutModel",
            "justify_items": null,
            "grid_row": null,
            "max_height": null,
            "align_content": null,
            "visibility": null,
            "align_self": null,
            "height": null,
            "min_height": null,
            "padding": null,
            "grid_auto_rows": null,
            "grid_gap": null,
            "max_width": null,
            "order": null,
            "_view_module_version": "1.2.0",
            "grid_template_areas": null,
            "object_position": null,
            "object_fit": null,
            "grid_auto_columns": null,
            "margin": null,
            "display": null,
            "left": null
          }
        }
      }
    }
  },
  "cells": [
    {
      "cell_type": "markdown",
      "metadata": {
        "id": "view-in-github",
        "colab_type": "text"
      },
      "source": [
        "<a href=\"https://colab.research.google.com/github/Jeongyeon-Myeong/Python-Project/blob/master/BERT_%EC%98%81%EC%96%B4_friends_%EB%8D%B0%EC%9D%B4%ED%84%B0_NLP.ipynb\" target=\"_parent\"><img src=\"https://colab.research.google.com/assets/colab-badge.svg\" alt=\"Open In Colab\"/></a>"
      ]
    },
    {
      "cell_type": "markdown",
      "metadata": {
        "id": "CfPYyPLERU-H"
      },
      "source": [
        "# **Preparation**"
      ]
    },
    {
      "cell_type": "markdown",
      "metadata": {
        "id": "XT4PIM2xRgBp"
      },
      "source": [
        "- Edit > Notebook settings > Hardward accelerators > GPU > SAVE\n",
        "- Download the Friends dataset in EmotionLines website:\n",
        "http://doraemon.iis.sinica.edu.tw/emotionlines/download.html\n"
      ]
    },
    {
      "cell_type": "markdown",
      "metadata": {
        "id": "idM2mzIOxygV"
      },
      "source": [
        "# **Model**"
      ]
    },
    {
      "cell_type": "markdown",
      "metadata": {
        "id": "5NWok7mf5xZk"
      },
      "source": [
        "##### **Settings**"
      ]
    },
    {
      "cell_type": "code",
      "metadata": {
        "id": "vZewOX-D9BLJ",
        "colab": {
          "base_uri": "https://localhost:8080/"
        },
        "outputId": "fdc07691-a7bd-4872-b8a0-f7aec1d4ade0"
      },
      "source": [
        "!pip install transformers --quiet # package installer for python"
      ],
      "execution_count": 1,
      "outputs": [
        {
          "output_type": "stream",
          "text": [
            "\u001b[K     |████████████████████████████████| 1.5MB 10.5MB/s \n",
            "\u001b[K     |████████████████████████████████| 2.9MB 26.4MB/s \n",
            "\u001b[K     |████████████████████████████████| 890kB 52.3MB/s \n",
            "\u001b[?25h  Building wheel for sacremoses (setup.py) ... \u001b[?25l\u001b[?25hdone\n"
          ],
          "name": "stdout"
        }
      ]
    },
    {
      "cell_type": "code",
      "metadata": {
        "id": "6idZebToz_Wa"
      },
      "source": [
        "import torch\n",
        "from transformers import BertModel, BertTokenizer"
      ],
      "execution_count": 2,
      "outputs": []
    },
    {
      "cell_type": "code",
      "metadata": {
        "id": "VKYIuzDw6mCq",
        "colab": {
          "base_uri": "https://localhost:8080/",
          "height": 169,
          "referenced_widgets": [
            "21a4373afc994fbc8fb3a325fb35746a",
            "d5f3276ca91b43b8bb18b5ff9415eb1a",
            "7654ffcbddcf4555a3423d4cd71c2000",
            "85520d666dbe4453bc06e73885c78398",
            "ae0790efde124ddd8e7f3ed3cb8126e8",
            "fce86f2e3737431888622a7aac3ac8e0",
            "8ef4fc43ad474b6b9c401b2a989151b1",
            "ac1917f3cb6d4d4589aba11cdde62633",
            "0ec760bae72045889673f9b0429c94da",
            "9fc65ba93d8f44fcadfaafa57141e362",
            "9d80b26cfbb14fdf9f2c0f64872a7895",
            "73232fe1f1d840eeac80b80831e62d67",
            "877a01a14577459d9dd54265fd5957ec",
            "39e417200b61419fb368658fbe293d5f",
            "ada6a024a2ce4a3fa16a9c75bd744798",
            "96ef43a1cffd42abaae2b96920d517ab",
            "800ba59e190c4338ab5b857cea931e1e",
            "f290fd124d7d4727b69a0c765685a4d2",
            "21c46db722054921b32bb99b0ab66901",
            "48e7e9e12dd8455a81faaa30a6d5132c",
            "471fe002583543b4a05ac4d16ee6e800",
            "94902399c6824398bd3d9d9d075cc7e0",
            "8ebb95e598bd4b60a3578b3eebb025d2",
            "08b52850356f4c89bd4ea3c034990ec2"
          ]
        },
        "outputId": "b888d605-692f-4ba1-b590-d305d98a6dba"
      },
      "source": [
        "pretrained_weights = 'bert-base-uncased'\n",
        "tokenizer = BertTokenizer.from_pretrained(pretrained_weights) #bert tokenizer\n",
        "model = BertModel.from_pretrained(pretrained_weights) # bert model"
      ],
      "execution_count": 3,
      "outputs": [
        {
          "output_type": "display_data",
          "data": {
            "application/vnd.jupyter.widget-view+json": {
              "model_id": "21a4373afc994fbc8fb3a325fb35746a",
              "version_minor": 0,
              "version_major": 2
            },
            "text/plain": [
              "HBox(children=(FloatProgress(value=0.0, description='Downloading', max=231508.0, style=ProgressStyle(descripti…"
            ]
          },
          "metadata": {
            "tags": []
          }
        },
        {
          "output_type": "stream",
          "text": [
            "\n"
          ],
          "name": "stdout"
        },
        {
          "output_type": "display_data",
          "data": {
            "application/vnd.jupyter.widget-view+json": {
              "model_id": "0ec760bae72045889673f9b0429c94da",
              "version_minor": 0,
              "version_major": 2
            },
            "text/plain": [
              "HBox(children=(FloatProgress(value=0.0, description='Downloading', max=433.0, style=ProgressStyle(description_…"
            ]
          },
          "metadata": {
            "tags": []
          }
        },
        {
          "output_type": "stream",
          "text": [
            "\n"
          ],
          "name": "stdout"
        },
        {
          "output_type": "display_data",
          "data": {
            "application/vnd.jupyter.widget-view+json": {
              "model_id": "800ba59e190c4338ab5b857cea931e1e",
              "version_minor": 0,
              "version_major": 2
            },
            "text/plain": [
              "HBox(children=(FloatProgress(value=0.0, description='Downloading', max=440473133.0, style=ProgressStyle(descri…"
            ]
          },
          "metadata": {
            "tags": []
          }
        },
        {
          "output_type": "stream",
          "text": [
            "\n"
          ],
          "name": "stdout"
        }
      ]
    },
    {
      "cell_type": "markdown",
      "metadata": {
        "id": "UCpSWlYV7ja0"
      },
      "source": [
        "**Tokenization(Example)**"
      ]
    },
    {
      "cell_type": "code",
      "metadata": {
        "id": "shaQM8GE9RIR"
      },
      "source": [
        "#예시 문장\n",
        "sentence = 'My duties?  All right. '"
      ],
      "execution_count": null,
      "outputs": []
    },
    {
      "cell_type": "code",
      "metadata": {
        "colab": {
          "base_uri": "https://localhost:8080/"
        },
        "id": "WAxXbZXW3ueJ",
        "outputId": "7a1d89aa-be1a-4593-b024-4a81e6435f9c"
      },
      "source": [
        " #bert tokenizer로 토큰화\n",
        "tokens = tokenizer.tokenize(sentence) #['[CLS]', 'all', 'the', 'classes', 'are', 'provided', '.', '[SEP]']\n",
        "tokens = ['[CLS]'] + tokens + ['[SEP]']\n",
        "print(tokens)"
      ],
      "execution_count": null,
      "outputs": [
        {
          "output_type": "stream",
          "text": [
            "['[CLS]', 'my', 'duties', '?', 'all', 'right', '.', '[SEP]']\n"
          ],
          "name": "stdout"
        }
      ]
    },
    {
      "cell_type": "code",
      "metadata": {
        "colab": {
          "base_uri": "https://localhost:8080/"
        },
        "id": "4wcGm1oJ4Df7",
        "outputId": "1c68f99d-d933-4297-bc2a-8aab9b1d99fb"
      },
      "source": [
        "# token하여 id로 바꾼다.[[101, 2035, 1996, 4280, 2024, 3024, 1012, 102]]\n",
        "#Converts a token string (or a sequence of tokens) in a single integer id (or a sequence of ids), using the vocabulary.\n",
        "ids = [tokenizer.convert_tokens_to_ids(tokens)]\n",
        "print(ids)"
      ],
      "execution_count": null,
      "outputs": [
        {
          "output_type": "stream",
          "text": [
            "[[101, 2026, 5704, 1029, 2035, 2157, 1012, 102]]\n"
          ],
          "name": "stdout"
        }
      ]
    },
    {
      "cell_type": "code",
      "metadata": {
        "id": "rceQjMsOer8_"
      },
      "source": [
        "ids = [[101, 2928, 1010, 2035, 1996, 4280, 2024, 3024, 1012, 102, 0, 0, 0, 0, 0, 0, 0, 0, 0]]\r\n",
        "attention_masks = [[1, 1, 1, 1, 1, 1, 1, 1, 1, 1, 0, 0, 0, 0, 0, 0, 0, 0, 0]]"
      ],
      "execution_count": null,
      "outputs": []
    },
    {
      "cell_type": "code",
      "metadata": {
        "id": "RGVa_OCH-31F"
      },
      "source": [
        "#tensor로 변경, tensor([[ 101, 2035, 1996, 4280, 2024, 3024, 1012,  102]])\n",
        "input_tensor = torch.tensor(ids)\n",
        "masks_tensor = torch.tensor(attention_masks)"
      ],
      "execution_count": null,
      "outputs": []
    },
    {
      "cell_type": "code",
      "metadata": {
        "colab": {
          "base_uri": "https://localhost:8080/"
        },
        "id": "ThFxkpIMZUz3",
        "outputId": "84b87216-6253-4eb7-c023-727326a7b5ff"
      },
      "source": [
        "print(masks_tensor.size())"
      ],
      "execution_count": null,
      "outputs": [
        {
          "output_type": "stream",
          "text": [
            "torch.Size([1, 19])\n"
          ],
          "name": "stdout"
        }
      ]
    },
    {
      "cell_type": "markdown",
      "metadata": {
        "id": "Ns0LjLOd7Ry5"
      },
      "source": [
        "##### **Model(Example)**"
      ]
    },
    {
      "cell_type": "code",
      "metadata": {
        "colab": {
          "base_uri": "https://localhost:8080/"
        },
        "id": "IBGZFEn08vbW",
        "outputId": "889669a9-7d46-4528-aedc-d54c24028d0d"
      },
      "source": [
        "# id값을 bert모델에 넣기\n",
        "hidden_tensor = model(input_tensor, attention_mask = masks_tensor)[0]\n",
        "print(hidden_tensor.size())"
      ],
      "execution_count": null,
      "outputs": [
        {
          "output_type": "stream",
          "text": [
            "torch.Size([1, 19, 768])\n"
          ],
          "name": "stdout"
        }
      ]
    },
    {
      "cell_type": "code",
      "metadata": {
        "colab": {
          "base_uri": "https://localhost:8080/"
        },
        "id": "ZrYgst9d1AJA",
        "outputId": "84c520d4-7125-4ba4-cb68-7f184d7a8d06"
      },
      "source": [
        "hidden_tensor"
      ],
      "execution_count": null,
      "outputs": [
        {
          "output_type": "execute_result",
          "data": {
            "text/plain": [
              "tensor([[[-0.3332,  0.3654,  0.1161,  ..., -0.1596,  0.2420,  0.5352],\n",
              "         [ 0.5816,  0.3318,  0.3934,  ...,  0.2164,  0.3406, -0.2485],\n",
              "         [-0.0190,  0.4895,  0.4740,  ..., -0.3352,  0.3113,  0.3196],\n",
              "         ...,\n",
              "         [ 0.1850,  0.4164,  0.4646,  ...,  0.0479, -0.0294, -0.1171],\n",
              "         [ 0.3209,  0.3451,  0.4535,  ...,  0.0429, -0.0533, -0.0560],\n",
              "         [ 0.3667,  0.3243,  0.4432,  ...,  0.0751, -0.0630, -0.0889]]],\n",
              "       grad_fn=<NativeLayerNormBackward>)"
            ]
          },
          "metadata": {
            "tags": []
          },
          "execution_count": 11
        }
      ]
    },
    {
      "cell_type": "code",
      "metadata": {
        "id": "i3yB6A3dCN6T"
      },
      "source": [
        "#torch.Size([1, 8, 768])\n",
        "logit = torch.nn.Linear(768, 2)(hidden_tensor)"
      ],
      "execution_count": null,
      "outputs": []
    },
    {
      "cell_type": "code",
      "metadata": {
        "id": "qd5X-Id3DERC"
      },
      "source": [
        "prediction = torch.nn.Softmax(dim=-1)(logit)"
      ],
      "execution_count": null,
      "outputs": []
    },
    {
      "cell_type": "markdown",
      "metadata": {
        "id": "yPKnl3-7yCnJ"
      },
      "source": [
        "# **Emotion Recognition**"
      ]
    },
    {
      "cell_type": "markdown",
      "metadata": {
        "id": "Sk8Fa9xrzndp"
      },
      "source": [
        "**Train and Dev Dataset**"
      ]
    },
    {
      "cell_type": "code",
      "metadata": {
        "id": "8xzpFG2Azpx6"
      },
      "source": [
        "# 데이터 셋 로드\n",
        "import json\n",
        "\n",
        "data = {'train': {'speaker': [], 'utterance': [], 'emotion': []},\n",
        "        'dev': {'speaker': [], 'utterance': [], 'emotion': []},\n",
        "        'test': {'speaker': [], 'utterance': [], 'emotion': []}}\n",
        "\n",
        "for dtype in ['train', 'dev', 'test']:\n",
        "  for dialog in json.loads(open('friends_' + dtype + '.json').read()):\n",
        "    for line in dialog:\n",
        "      data[dtype]['speaker'].append(line['speaker'])\n",
        "      data[dtype]['utterance'].append(line['utterance'])\n",
        "      data[dtype]['emotion'].append(line['emotion'])"
      ],
      "execution_count": 4,
      "outputs": []
    },
    {
      "cell_type": "code",
      "metadata": {
        "id": "L8LLpfW0Oyuh"
      },
      "source": [
        "# index 고정 시킨다\r\n",
        "i2e_dict = {'joy':0,\r\n",
        " 'surprise':1,\r\n",
        " 'non-neutral':2,\r\n",
        " 'sadness':3,\r\n",
        " 'disgust':4,\r\n",
        " 'fear':5,\r\n",
        " 'anger':6,\r\n",
        " 'neutral':7}"
      ],
      "execution_count": 5,
      "outputs": []
    },
    {
      "cell_type": "code",
      "metadata": {
        "id": "3fxpSA-aJn0v"
      },
      "source": [
        "# dictionary 변경\r\n",
        "i2e_dict_change = {0: 'joy',\r\n",
        "1:'surprise',\r\n",
        "2:'non-neutral',\r\n",
        "3:'sadness',\r\n",
        "4:'disgust',\r\n",
        "5:'fear',\r\n",
        "6:'anger',\r\n",
        "7:'neutral'}"
      ],
      "execution_count": 6,
      "outputs": []
    },
    {
      "cell_type": "code",
      "metadata": {
        "id": "0jcO2KaVBjFs",
        "colab": {
          "base_uri": "https://localhost:8080/"
        },
        "outputId": "a9a8b9cb-4df8-4638-f2a4-9e2fdd2909b6"
      },
      "source": [
        "# train weight \r\n",
        "weights1 = [data['train']['emotion'].count('joy'),\r\n",
        "          data['train']['emotion'].count('surprise'),\r\n",
        "          data['train']['emotion'].count('non-neutral'),\r\n",
        "          data['train']['emotion'].count('sadness'),\r\n",
        "          data['train']['emotion'].count('disgust'),\r\n",
        "          data['train']['emotion'].count('fear'),\r\n",
        "          data['train']['emotion'].count('anger'),\r\n",
        "          data['train']['emotion'].count('neutral')]\r\n",
        "print(weights1) # [1283, 1220, 2017, 351, 240, 185, 513, 4752]"
      ],
      "execution_count": 7,
      "outputs": [
        {
          "output_type": "stream",
          "text": [
            "[1283, 1220, 2017, 351, 240, 185, 513, 4752]\n"
          ],
          "name": "stdout"
        }
      ]
    },
    {
      "cell_type": "code",
      "metadata": {
        "colab": {
          "base_uri": "https://localhost:8080/"
        },
        "id": "qpc5I7r8uJHj",
        "outputId": "c849f366-89b8-411c-911c-4346d614cce2"
      },
      "source": [
        "# dev weight \r\n",
        "weights2 = [data['dev']['emotion'].count('joy'),\r\n",
        "          data['dev']['emotion'].count('surprise'),\r\n",
        "          data['dev']['emotion'].count('non-neutral'),\r\n",
        "          data['dev']['emotion'].count('sadness'),\r\n",
        "          data['dev']['emotion'].count('disgust'),\r\n",
        "          data['dev']['emotion'].count('fear'),\r\n",
        "          data['dev']['emotion'].count('anger'),\r\n",
        "          data['dev']['emotion'].count('neutral')]\r\n",
        "print(weights2) #[123, 151, 214, 62, 23, 29, 85, 491]"
      ],
      "execution_count": 8,
      "outputs": [
        {
          "output_type": "stream",
          "text": [
            "[123, 151, 214, 62, 23, 29, 85, 491]\n"
          ],
          "name": "stdout"
        }
      ]
    },
    {
      "cell_type": "code",
      "metadata": {
        "id": "00FfOYUwuqSd"
      },
      "source": [
        "# train weight dev weight의 합 \r\n",
        "weights = [x+y for x,y in zip(weights1, weights2)] #[1406, 1371, 2231, 413, 263, 214, 598, 5243]"
      ],
      "execution_count": 9,
      "outputs": []
    },
    {
      "cell_type": "code",
      "metadata": {
        "id": "S21FEcbr363L",
        "colab": {
          "base_uri": "https://localhost:8080/"
        },
        "outputId": "08f2ac15-c9ff-46d0-cd92-50e8973b2aa9"
      },
      "source": [
        "# 최종 weight 구하기\r\n",
        "weights = [ max(weights) /num for num in weights]\r\n",
        "print(weights) # [3.7290184921763867, 3.824215900802334, 2.350067234424025, 12.694915254237289, 19.935361216730037, 24.5, 8.767558528428093, 1.0]"
      ],
      "execution_count": 10,
      "outputs": [
        {
          "output_type": "stream",
          "text": [
            "[3.7290184921763867, 3.824215900802334, 2.350067234424025, 12.694915254237289, 19.935361216730037, 24.5, 8.767558528428093, 1.0]\n"
          ],
          "name": "stdout"
        }
      ]
    },
    {
      "cell_type": "code",
      "metadata": {
        "id": "ljTRJFwx6JuQ"
      },
      "source": [
        "# train/ dev/ test 셋으로 나눔\r\n",
        "import pandas as pd\r\n",
        "friendsdata_train_dict = data['train']\r\n",
        "friendsdata_dev_dict = data['dev']\r\n",
        "friendsdata_test_dict = data['test']\r\n",
        "\r\n",
        "friends_traindata = pd.DataFrame(friendsdata_train_dict)\r\n",
        "friends_devdata = pd.DataFrame(friendsdata_dev_dict)\r\n",
        "friends_testdata = pd.DataFrame(friendsdata_test_dict)"
      ],
      "execution_count": 11,
      "outputs": []
    },
    {
      "cell_type": "code",
      "metadata": {
        "id": "3i6zjXu_tcxy"
      },
      "source": [
        "# 테스트 데이터 셋은 과제에서 주어질 예정이므로 train, dev은 train으로 test 데이터는 dev로 이용\r\n",
        "friends_traindata = pd.concat([friends_traindata, friends_devdata], join='inner') # intersection\r\n",
        "friends_devdata = friends_testdata.copy()"
      ],
      "execution_count": 12,
      "outputs": []
    },
    {
      "cell_type": "code",
      "metadata": {
        "id": "G0EbJ5v2lnmH"
      },
      "source": [
        "# dataframe을 list형태로 변경함.\r\n",
        "train_utterance = friends_traindata['utterance'].values.tolist()\r\n",
        "dev_utterance = friends_devdata['utterance'].values.tolist()\r\n",
        "train_emotion = friends_traindata['emotion'].values.tolist()\r\n",
        "dev_emotion = friends_devdata['emotion'].values.tolist()\r\n",
        "train_speaker = friends_traindata['speaker'].values.tolist()\r\n",
        "dev_speaker = friends_devdata['speaker'].values.tolist()"
      ],
      "execution_count": 13,
      "outputs": []
    },
    {
      "cell_type": "code",
      "metadata": {
        "id": "l4nbKFORQFyx"
      },
      "source": [
        "# data copy\r\n",
        "train_utterance_copy = train_utterance.copy()\r\n",
        "dev_utterance_copy = dev_utterance.copy()"
      ],
      "execution_count": 14,
      "outputs": []
    },
    {
      "cell_type": "code",
      "metadata": {
        "id": "6VX25EphOBZu"
      },
      "source": [
        "#case1 (종합 : 문맥 정보와 화자 정보를 반영)\r\n",
        "#train_utterance\r\n",
        "#train_speaker\r\n",
        "def token_input(utterance, utterance_copy, speaker ):\r\n",
        "  for i in range(len(utterance)):\r\n",
        "    if ( i > 0 and speaker[i-1] == speaker[i]):\r\n",
        "      utterance[i] = '[CLS] ' + speaker[i] + ', ' + utterance_copy[i] + ' [SEP] ' + utterance_copy[i-1] + ' [SEP] [PAD]' \r\n",
        "    elif ( i > 1 and speaker[i-2] == speaker[i] and speaker[i-1] != speaker[i]):\r\n",
        "      utterance[i] = '[CLS] ' + speaker[i] + ', ' + utterance_copy[i] + ' [SEP] ' + utterance_copy[i-2] + ' [SEP] [PAD]' \r\n",
        "    else:\r\n",
        "      utterance[i] = '[CLS] ' + speaker[i] + ', ' + utterance_copy[i] + ' [SEP] [PAD]' "
      ],
      "execution_count": 15,
      "outputs": []
    },
    {
      "cell_type": "code",
      "metadata": {
        "id": "_DWj67cRYKA6"
      },
      "source": [
        "#case2 (문맥 정보만 반영)\r\n",
        "#train_utterance\r\n",
        "#train_speaker\r\n",
        "def token_input(utterance, utterance_copy, speaker ):\r\n",
        "  for i in range(len(utterance)):\r\n",
        "    if ( i > 0 and speaker[i-1] == speaker[i]):\r\n",
        "      utterance[i] = '[CLS] ' + utterance_copy[i] + ' [SEP] ' + utterance_copy[i-1] + ' [SEP] [PAD]' \r\n",
        "    elif ( i > 1 and speaker[i-2] == speaker[i] and speaker[i-1] != speaker[i]):\r\n",
        "      utterance[i] = '[CLS] ' + utterance_copy[i] + ' [SEP] ' + utterance_copy[i-2] + ' [SEP] [PAD]' \r\n",
        "    else:\r\n",
        "      utterance[i] = '[CLS] ' + utterance_copy[i] + ' [SEP] [PAD]' "
      ],
      "execution_count": null,
      "outputs": []
    },
    {
      "cell_type": "code",
      "metadata": {
        "id": "C2jGLqAqYXNQ"
      },
      "source": [
        "#case3  (화자 정보만 반영)\r\n",
        "#train_utterance\r\n",
        "#train_speaker\r\n",
        "def token_input(utterance, utterance_copy, speaker ):\r\n",
        "  for i in range(len(utterance)):\r\n",
        "      utterance[i] = '[CLS] ' + utterance_copy[i] + ' [SEP] [PAD]' "
      ],
      "execution_count": null,
      "outputs": []
    },
    {
      "cell_type": "code",
      "metadata": {
        "id": "b3oT6jDnZTvY"
      },
      "source": [
        "# 문장에 token 적용\r\n",
        "token_input(train_utterance, train_utterance_copy, train_speaker)\r\n",
        "token_input(dev_utterance, dev_utterance_copy, dev_speaker)"
      ],
      "execution_count": 16,
      "outputs": []
    },
    {
      "cell_type": "code",
      "metadata": {
        "colab": {
          "base_uri": "https://localhost:8080/",
          "height": 317
        },
        "id": "8tFzFPAekFfr",
        "outputId": "9f130c64-ccbf-418a-8ce9-7734b0d73e8d"
      },
      "source": [
        "# 문장의 길이 구하기\r\n",
        "import matplotlib.pyplot as plt\r\n",
        "print('대화의 최대 길이 :',max(len(l) for l in train_utterance))\r\n",
        "print('대화의 평균 길이 :',sum(map(len, train_utterance))/len(train_utterance))\r\n",
        "plt.hist([len(s) for s in train_utterance], bins=50)\r\n",
        "plt.xlabel('length of samples')\r\n",
        "plt.ylabel('number of samples')\r\n",
        "plt.show()"
      ],
      "execution_count": 17,
      "outputs": [
        {
          "output_type": "stream",
          "text": [
            "대화의 최대 길이 : 402\n",
            "대화의 평균 길이 : 95.8098645540506\n"
          ],
          "name": "stdout"
        },
        {
          "output_type": "display_data",
          "data": {
            "image/png": "[encoded data removed]",
            "text/plain": [
              "<Figure size 432x288 with 1 Axes>"
            ]
          },
          "metadata": {
            "tags": [],
            "needs_background": "light"
          }
        }
      ]
    },
    {
      "cell_type": "code",
      "metadata": {
        "id": "siNMXKsWl4sT"
      },
      "source": [
        "# padding의 max length 설정\r\n",
        "MAX_LEN = 200"
      ],
      "execution_count": 18,
      "outputs": []
    },
    {
      "cell_type": "code",
      "metadata": {
        "id": "8slGFqNqdqC4"
      },
      "source": [
        "# 문장을 합친 경우, segment 정보 반영\r\n",
        "def segment_funct(sentence):\r\n",
        "  segment_id = []  \r\n",
        "  lastidxsep = len(sentence) - 1 - sentence[::-1].index('[SEP]')\r\n",
        "  idxcls = sentence.index('[CLS]')\r\n",
        "  idxsep = sentence.index('[SEP]')\r\n",
        "  #segment_id = [0] * (idxsep - idxcls +1) + [1] * ( MAX_LEN - idxsep-1) \r\n",
        "  if (lastidxsep == idxsep):\r\n",
        "    segment_id = [0] * (idxsep - idxcls +1)\r\n",
        "  else:  \r\n",
        "    segment_id = [0] * (idxsep - idxcls +1) + [1] * ( lastidxsep - idxsep) \r\n",
        "  return segment_id"
      ],
      "execution_count": 19,
      "outputs": []
    },
    {
      "cell_type": "code",
      "metadata": {
        "id": "MIJAheccwqUJ"
      },
      "source": [
        "# 토큰 적용, 인덱스 변경, 패딩 함수\r\n",
        "from keras.preprocessing.sequence import pad_sequences\r\n",
        "from transformers import BertModel, BertTokenizer\r\n",
        "def tokenize(dataset, segment_utterance):\r\n",
        "  # 입력 토큰의 최대 시퀀스 길이\r\n",
        "  tokenized_utterance = [ str(sentence) for sentence in dataset ]\r\n",
        "  # token화 하기\r\n",
        "  tokenizer = BertTokenizer.from_pretrained('bert-base-uncased')\r\n",
        "  tokenized_utterance = [tokenizer.tokenize(sent) for sent in tokenized_utterance]\r\n",
        "  tokenized_segment_id = [segment_funct(sent) for sent in tokenized_utterance]\r\n",
        "  # 인덱스로 변환하기 \r\n",
        "  ids_utterance = [tokenizer.convert_tokens_to_ids(x) for x in tokenized_utterance] \r\n",
        "  # 패딩 채우기\r\n",
        "  ids_utterance = pad_sequences(ids_utterance, maxlen=MAX_LEN, dtype=\"long\", truncating=\"post\", padding=\"post\")\r\n",
        "  segment_id = pad_sequences(tokenized_segment_id, maxlen=MAX_LEN, dtype=\"long\", truncating=\"post\", padding=\"post\")\r\n",
        "  return ids_utterance, segment_id"
      ],
      "execution_count": 20,
      "outputs": []
    },
    {
      "cell_type": "code",
      "metadata": {
        "id": "lJ7FzYQkEj9x"
      },
      "source": [
        "# 토큰 적용, 인덱스 변경, 패딩 적용\r\n",
        "segment_train = []\r\n",
        "segment_dev = []\r\n",
        "token_train_utterance, segment_train = tokenize(train_utterance, segment_train)\r\n",
        "token_dev_utterance, segment_dev = tokenize(dev_utterance, segment_dev)"
      ],
      "execution_count": 21,
      "outputs": []
    },
    {
      "cell_type": "code",
      "metadata": {
        "id": "zl_5Uqhfi09U"
      },
      "source": [
        "# 어텐션 마스크 \r\n",
        "# 어텐션 마스크를 패딩이 아니면 1, 패딩이면 0으로 설정\r\n",
        "# 패딩 부분은 BERT 모델에서 어텐션을 수행하지 않아 속도 향상\r\n",
        "def mask_func(masklist, targetdata):\r\n",
        "  for seq in targetdata:\r\n",
        "    seq_mask = [float(i>0) for i in seq]\r\n",
        "    masklist.append(seq_mask)\r\n",
        "  print(masklist[0])"
      ],
      "execution_count": 22,
      "outputs": []
    },
    {
      "cell_type": "code",
      "metadata": {
        "colab": {
          "base_uri": "https://localhost:8080/"
        },
        "id": "poavcWuFAR1z",
        "outputId": "a04a5e75-921b-4b8e-cccc-88a196dfdfb2"
      },
      "source": [
        "# train과 dev data에 대해서 mask attention 적용\r\n",
        "masks_train_utterance = []\r\n",
        "masks_dev_utterance = []\r\n",
        "mask_func(masks_train_utterance, token_train_utterance) \r\n",
        "mask_func(masks_dev_utterance, token_dev_utterance)"
      ],
      "execution_count": 23,
      "outputs": [
        {
          "output_type": "stream",
          "text": [
            "[1.0, 1.0, 1.0, 1.0, 1.0, 1.0, 1.0, 1.0, 1.0, 1.0, 1.0, 1.0, 1.0, 1.0, 1.0, 1.0, 1.0, 1.0, 1.0, 1.0, 1.0, 1.0, 1.0, 1.0, 1.0, 1.0, 1.0, 0.0, 0.0, 0.0, 0.0, 0.0, 0.0, 0.0, 0.0, 0.0, 0.0, 0.0, 0.0, 0.0, 0.0, 0.0, 0.0, 0.0, 0.0, 0.0, 0.0, 0.0, 0.0, 0.0, 0.0, 0.0, 0.0, 0.0, 0.0, 0.0, 0.0, 0.0, 0.0, 0.0, 0.0, 0.0, 0.0, 0.0, 0.0, 0.0, 0.0, 0.0, 0.0, 0.0, 0.0, 0.0, 0.0, 0.0, 0.0, 0.0, 0.0, 0.0, 0.0, 0.0, 0.0, 0.0, 0.0, 0.0, 0.0, 0.0, 0.0, 0.0, 0.0, 0.0, 0.0, 0.0, 0.0, 0.0, 0.0, 0.0, 0.0, 0.0, 0.0, 0.0, 0.0, 0.0, 0.0, 0.0, 0.0, 0.0, 0.0, 0.0, 0.0, 0.0, 0.0, 0.0, 0.0, 0.0, 0.0, 0.0, 0.0, 0.0, 0.0, 0.0, 0.0, 0.0, 0.0, 0.0, 0.0, 0.0, 0.0, 0.0, 0.0, 0.0, 0.0, 0.0, 0.0, 0.0, 0.0, 0.0, 0.0, 0.0, 0.0, 0.0, 0.0, 0.0, 0.0, 0.0, 0.0, 0.0, 0.0, 0.0, 0.0, 0.0, 0.0, 0.0, 0.0, 0.0, 0.0, 0.0, 0.0, 0.0, 0.0, 0.0, 0.0, 0.0, 0.0, 0.0, 0.0, 0.0, 0.0, 0.0, 0.0, 0.0, 0.0, 0.0, 0.0, 0.0, 0.0, 0.0, 0.0, 0.0, 0.0, 0.0, 0.0, 0.0, 0.0, 0.0, 0.0, 0.0, 0.0, 0.0, 0.0, 0.0, 0.0, 0.0, 0.0, 0.0, 0.0, 0.0, 0.0, 0.0, 0.0, 0.0]\n",
            "[1.0, 1.0, 1.0, 1.0, 1.0, 1.0, 1.0, 1.0, 1.0, 1.0, 1.0, 1.0, 1.0, 1.0, 1.0, 1.0, 1.0, 1.0, 0.0, 0.0, 0.0, 0.0, 0.0, 0.0, 0.0, 0.0, 0.0, 0.0, 0.0, 0.0, 0.0, 0.0, 0.0, 0.0, 0.0, 0.0, 0.0, 0.0, 0.0, 0.0, 0.0, 0.0, 0.0, 0.0, 0.0, 0.0, 0.0, 0.0, 0.0, 0.0, 0.0, 0.0, 0.0, 0.0, 0.0, 0.0, 0.0, 0.0, 0.0, 0.0, 0.0, 0.0, 0.0, 0.0, 0.0, 0.0, 0.0, 0.0, 0.0, 0.0, 0.0, 0.0, 0.0, 0.0, 0.0, 0.0, 0.0, 0.0, 0.0, 0.0, 0.0, 0.0, 0.0, 0.0, 0.0, 0.0, 0.0, 0.0, 0.0, 0.0, 0.0, 0.0, 0.0, 0.0, 0.0, 0.0, 0.0, 0.0, 0.0, 0.0, 0.0, 0.0, 0.0, 0.0, 0.0, 0.0, 0.0, 0.0, 0.0, 0.0, 0.0, 0.0, 0.0, 0.0, 0.0, 0.0, 0.0, 0.0, 0.0, 0.0, 0.0, 0.0, 0.0, 0.0, 0.0, 0.0, 0.0, 0.0, 0.0, 0.0, 0.0, 0.0, 0.0, 0.0, 0.0, 0.0, 0.0, 0.0, 0.0, 0.0, 0.0, 0.0, 0.0, 0.0, 0.0, 0.0, 0.0, 0.0, 0.0, 0.0, 0.0, 0.0, 0.0, 0.0, 0.0, 0.0, 0.0, 0.0, 0.0, 0.0, 0.0, 0.0, 0.0, 0.0, 0.0, 0.0, 0.0, 0.0, 0.0, 0.0, 0.0, 0.0, 0.0, 0.0, 0.0, 0.0, 0.0, 0.0, 0.0, 0.0, 0.0, 0.0, 0.0, 0.0, 0.0, 0.0, 0.0, 0.0, 0.0, 0.0, 0.0, 0.0, 0.0, 0.0, 0.0, 0.0, 0.0, 0.0, 0.0, 0.0]\n"
          ],
          "name": "stdout"
        }
      ]
    },
    {
      "cell_type": "code",
      "metadata": {
        "id": "6rnpPG-zqEtq"
      },
      "source": [
        "# 데이터에 tensor 적용 함수\r\n",
        "from keras.preprocessing.sequence import pad_sequences\r\n",
        "from transformers import BertModel, BertTokenizer\r\n",
        "\r\n",
        "class Dataset():\r\n",
        "  def __init__(self, x, y, z, k):\r\n",
        "    self.utterance = x\r\n",
        "    self.emotion = y\r\n",
        "    self.mask = z\r\n",
        "    self.segment = k\r\n",
        "\r\n",
        "  def __len__(self): \r\n",
        "    return len(self.utterance)\r\n",
        "\r\n",
        "  def __getitem__(self, idx):\r\n",
        "    input_tensor = torch.tensor(self.utterance[idx])\r\n",
        "    labels_tensor = torch.tensor(i2e_dict[self.emotion[idx]])\r\n",
        "    mask_tensor = torch.tensor(self.mask[idx])\r\n",
        "    segment_tensor = torch.tensor(self.segment[idx])\r\n",
        "    return input_tensor,labels_tensor, mask_tensor, segment_tensor"
      ],
      "execution_count": 24,
      "outputs": []
    },
    {
      "cell_type": "code",
      "metadata": {
        "id": "CBWMuEb6_5hz"
      },
      "source": [
        "train_dataset = Dataset(token_train_utterance, train_emotion, masks_train_utterance, segment_train)\r\n",
        "dev_dataset = Dataset(token_dev_utterance, dev_emotion, masks_dev_utterance, segment_dev)"
      ],
      "execution_count": 25,
      "outputs": []
    },
    {
      "cell_type": "code",
      "metadata": {
        "id": "fZBpxRRHACi2"
      },
      "source": [
        "# batch size 적용\r\n",
        "from torch.utils.data import Dataset\r\n",
        "from torch.utils.data import DataLoader\r\n",
        "train_dataloader = DataLoader(train_dataset, batch_size=8, shuffle=True)\r\n",
        "dev_dataloader = DataLoader(dev_dataset, batch_size=8, shuffle=True)"
      ],
      "execution_count": 26,
      "outputs": []
    },
    {
      "cell_type": "markdown",
      "metadata": {
        "id": "uwn8v4Pry_h9"
      },
      "source": [
        "**Test dataset**"
      ]
    },
    {
      "cell_type": "code",
      "metadata": {
        "id": "XEDaXsoCzDP_"
      },
      "source": [
        "# test dataset load\r\n",
        "import csv\r\n",
        "dialogs = []\r\n",
        "\r\n",
        "\r\n",
        "with open('en_data.csv', newline='') as csvfile:\r\n",
        "  dataread = csv.reader(csvfile)\r\n",
        "  for i,row in enumerate(dataread):\r\n",
        "    if i!=0:\r\n",
        "      dialogs.append([row[0], row[1], row[2], row[3], row[4]])\r\n",
        "\r\n",
        "# test data frame load\r\n",
        "df_test = pd.DataFrame(dialogs, columns=['id','i_diaglog','i_utterance','speaker','utterance'])\r\n",
        "test_utterance = df_test['utterance'].values.tolist()\r\n",
        "test_speaker = df_test['speaker'].values.tolist()\r\n"
      ],
      "execution_count": 27,
      "outputs": []
    },
    {
      "cell_type": "code",
      "metadata": {
        "id": "O0FybwcvamHK"
      },
      "source": [
        "test_utterance_copy = test_utterance.copy()\r\n",
        "token_input(test_utterance, test_utterance_copy, test_speaker)"
      ],
      "execution_count": 28,
      "outputs": []
    },
    {
      "cell_type": "code",
      "metadata": {
        "id": "vx1KDexObAP7"
      },
      "source": [
        "# token id, segment id 생성\r\n",
        "segment_test = []\r\n",
        "token_test_utterance, segment_test = tokenize(test_utterance, segment_test)"
      ],
      "execution_count": 29,
      "outputs": []
    },
    {
      "cell_type": "code",
      "metadata": {
        "colab": {
          "base_uri": "https://localhost:8080/"
        },
        "id": "hIJxKQsZb02C",
        "outputId": "29dc524d-19dd-423f-b0a8-f85066747641"
      },
      "source": [
        " # test mask attention 생성\r\n",
        "masks_test_utterance = []\r\n",
        "mask_func(masks_test_utterance, token_test_utterance) "
      ],
      "execution_count": 30,
      "outputs": [
        {
          "output_type": "stream",
          "text": [
            "[1.0, 1.0, 1.0, 1.0, 1.0, 1.0, 1.0, 1.0, 1.0, 1.0, 1.0, 1.0, 1.0, 0.0, 0.0, 0.0, 0.0, 0.0, 0.0, 0.0, 0.0, 0.0, 0.0, 0.0, 0.0, 0.0, 0.0, 0.0, 0.0, 0.0, 0.0, 0.0, 0.0, 0.0, 0.0, 0.0, 0.0, 0.0, 0.0, 0.0, 0.0, 0.0, 0.0, 0.0, 0.0, 0.0, 0.0, 0.0, 0.0, 0.0, 0.0, 0.0, 0.0, 0.0, 0.0, 0.0, 0.0, 0.0, 0.0, 0.0, 0.0, 0.0, 0.0, 0.0, 0.0, 0.0, 0.0, 0.0, 0.0, 0.0, 0.0, 0.0, 0.0, 0.0, 0.0, 0.0, 0.0, 0.0, 0.0, 0.0, 0.0, 0.0, 0.0, 0.0, 0.0, 0.0, 0.0, 0.0, 0.0, 0.0, 0.0, 0.0, 0.0, 0.0, 0.0, 0.0, 0.0, 0.0, 0.0, 0.0, 0.0, 0.0, 0.0, 0.0, 0.0, 0.0, 0.0, 0.0, 0.0, 0.0, 0.0, 0.0, 0.0, 0.0, 0.0, 0.0, 0.0, 0.0, 0.0, 0.0, 0.0, 0.0, 0.0, 0.0, 0.0, 0.0, 0.0, 0.0, 0.0, 0.0, 0.0, 0.0, 0.0, 0.0, 0.0, 0.0, 0.0, 0.0, 0.0, 0.0, 0.0, 0.0, 0.0, 0.0, 0.0, 0.0, 0.0, 0.0, 0.0, 0.0, 0.0, 0.0, 0.0, 0.0, 0.0, 0.0, 0.0, 0.0, 0.0, 0.0, 0.0, 0.0, 0.0, 0.0, 0.0, 0.0, 0.0, 0.0, 0.0, 0.0, 0.0, 0.0, 0.0, 0.0, 0.0, 0.0, 0.0, 0.0, 0.0, 0.0, 0.0, 0.0, 0.0, 0.0, 0.0, 0.0, 0.0, 0.0, 0.0, 0.0, 0.0, 0.0, 0.0, 0.0, 0.0, 0.0, 0.0, 0.0, 0.0, 0.0]\n"
          ],
          "name": "stdout"
        }
      ]
    },
    {
      "cell_type": "code",
      "metadata": {
        "id": "M2HMRASLZ0GE"
      },
      "source": [
        "# test 데이터를 텐서로 변환\r\n",
        "test_inputs = torch.tensor(token_test_utterance)\r\n",
        "test_masks = torch.tensor(masks_test_utterance)\r\n",
        "test_segment = torch.tensor(segment_test)"
      ],
      "execution_count": 31,
      "outputs": []
    },
    {
      "cell_type": "markdown",
      "metadata": {
        "id": "Z6gxWKi11OHV"
      },
      "source": [
        "##### **Hyper-parameters**"
      ]
    },
    {
      "cell_type": "code",
      "metadata": {
        "id": "vUY7pdLAyEDq"
      },
      "source": [
        "pretrained_weights = 'bert-base-uncased'\n",
        "learning_rate = 2e-5 # 1e-5\n",
        "n_epoch = 2"
      ],
      "execution_count": 32,
      "outputs": []
    },
    {
      "cell_type": "markdown",
      "metadata": {
        "id": "nC1cs8JC3cYA"
      },
      "source": [
        "##### **Model**"
      ]
    },
    {
      "cell_type": "code",
      "metadata": {
        "id": "nVU9HqHc3Tsz"
      },
      "source": [
        "import torch.nn as nn\n",
        "from transformers import BertModel, BertTokenizer\n",
        "\n",
        "class Model(nn.Module):\n",
        "  def __init__(self):\n",
        "    super().__init__()\n",
        "    self.bert_model = BertModel.from_pretrained(pretrained_weights)\n",
        "    self.linear = torch.nn.Linear(768, len(i2e_dict)) # {'anger': 2,'disgust': 6,'fear': 0,'joy': 5,...}\n",
        "\n",
        "  def forward(self, input_tensor, input_mask, segment_ids):\n",
        "    hidden_tensor = self.bert_model(input_tensor,attention_mask=input_mask,token_type_ids=segment_ids)[0] # (bat, len, hid) -> case 1, case 2\n",
        "    #hidden_tensor = self.bert_model(input_tensor,attention_mask=input_mask)[0] # (bat, len, hid) -> case 3\n",
        "    hidden_tensor = hidden_tensor[:, 0, :] # (bat, hid)\n",
        "    logit = self.linear(hidden_tensor)\n",
        "    return logit"
      ],
      "execution_count": 33,
      "outputs": []
    },
    {
      "cell_type": "markdown",
      "metadata": {
        "id": "rztPJu1DJI_G"
      },
      "source": [
        "##### **Evaluation Metrics**"
      ]
    },
    {
      "cell_type": "code",
      "metadata": {
        "id": "273RBAszJMGd"
      },
      "source": [
        "from sklearn.metrics import precision_score, recall_score, f1_score\n",
        "# 모델 평가\n",
        "def evaluate(true_list, pred_list):\n",
        "  print(pred_list)\n",
        "  print(true_list)\n",
        "  precision = precision_score(true_list, pred_list, average=None)\n",
        "  recall = recall_score(true_list, pred_list, average=None)\n",
        "  micro_f1 = f1_score(true_list, pred_list, average='micro')\n",
        "\n",
        "  # 출력 로짓과 라벨을 비교하여 정확도 계산\n",
        "  eval_accuracy = flat_accuracy(pred_list, true_list)\n",
        "  print('precision: ', ['%.4f' % v for v in precision])\n",
        "  print('recall:\\t\\t', ['%.4f' % v for v in recall])\n",
        "  print('micro_f1: %.6f' % micro_f1)\n",
        "  print(\"Accuracy: {0:.2f}\".format(eval_accuracy))"
      ],
      "execution_count": 34,
      "outputs": []
    },
    {
      "cell_type": "markdown",
      "metadata": {
        "id": "y9RcP6vr1Whw"
      },
      "source": [
        "##### **Training**"
      ]
    },
    {
      "cell_type": "code",
      "metadata": {
        "colab": {
          "base_uri": "https://localhost:8080/"
        },
        "id": "Wh4bqgfSP6Wm",
        "outputId": "8f63053b-dd55-4947-88f0-9448a4cc0b3b"
      },
      "source": [
        "# GPU 디바이스 이름 구함\r\n",
        "import tensorflow as tf\r\n",
        "device_name = tf.test.gpu_device_name()\r\n",
        "\r\n",
        "# GPU 디바이스 이름 검사\r\n",
        "if device_name == '/device:GPU:0':\r\n",
        "    print('Found GPU at: {}'.format(device_name))\r\n",
        "else:\r\n",
        "    raise SystemError('GPU device not found')"
      ],
      "execution_count": 35,
      "outputs": [
        {
          "output_type": "stream",
          "text": [
            "Found GPU at: /device:GPU:0\n"
          ],
          "name": "stdout"
        }
      ]
    },
    {
      "cell_type": "code",
      "metadata": {
        "colab": {
          "base_uri": "https://localhost:8080/"
        },
        "id": "yxxDICLbP727",
        "outputId": "cefca5fb-98e1-45e5-bdfb-d053ff403861"
      },
      "source": [
        "# 디바이스 설정\r\n",
        "if torch.cuda.is_available():    \r\n",
        "    device = torch.device(\"cuda\")\r\n",
        "    print('There are %d GPU(s) available.' % torch.cuda.device_count())\r\n",
        "    print('We will use the GPU:', torch.cuda.get_device_name(0))\r\n",
        "else:\r\n",
        "    device = torch.device(\"cpu\")\r\n",
        "    print('No GPU available, using the CPU instead.')"
      ],
      "execution_count": 36,
      "outputs": [
        {
          "output_type": "stream",
          "text": [
            "There are 1 GPU(s) available.\n",
            "We will use the GPU: Tesla V100-SXM2-16GB\n"
          ],
          "name": "stdout"
        }
      ]
    },
    {
      "cell_type": "code",
      "metadata": {
        "colab": {
          "base_uri": "https://localhost:8080/",
          "height": 55
        },
        "id": "kutNRuQScPQY",
        "outputId": "f9a45c0b-9383-42c5-e62a-b415ba3c5aa2"
      },
      "source": [
        "\r\n",
        "\"\"\"\r\n",
        "n_epoch = 2\r\n",
        "for i_epoch in range(0, n_epoch):\r\n",
        "  for batch_idx, batch_data in enumerate(train_dataloader): \r\n",
        "    x_train, y_train = samples\r\n",
        "    print(\"x  : \" + str(x_train))\r\n",
        "    print(\"y  : \" + str(y_train))   \r\n",
        "\"\"\""
      ],
      "execution_count": 37,
      "outputs": [
        {
          "output_type": "execute_result",
          "data": {
            "application/vnd.google.colaboratory.intrinsic+json": {
              "type": "string"
            },
            "text/plain": [
              "'\\nn_epoch = 2\\nfor i_epoch in range(0, n_epoch):\\n  for batch_idx, batch_data in enumerate(train_dataloader): \\n    x_train, y_train = samples\\n    print(\"x  : \" + str(x_train))\\n    print(\"y  : \" + str(y_train))   \\n'"
            ]
          },
          "metadata": {
            "tags": []
          },
          "execution_count": 37
        }
      ]
    },
    {
      "cell_type": "code",
      "metadata": {
        "id": "2pSuCrbO2E6i"
      },
      "source": [
        "# 정확도 계산 함수\r\n",
        "def flat_accuracy(preds, labels):\r\n",
        "    pred_flat = preds.flatten()\r\n",
        "    labels_flat = labels.flatten()\r\n",
        "    return np.sum(pred_flat == labels_flat) / len(labels_flat)"
      ],
      "execution_count": 38,
      "outputs": []
    },
    {
      "cell_type": "code",
      "metadata": {
        "colab": {
          "base_uri": "https://localhost:8080/"
        },
        "id": "gvetI0DNysM5",
        "outputId": "b833320d-c428-46fc-b0e3-5d6a3fd21f93"
      },
      "source": [
        "import time\n",
        "import datetime\n",
        "import os\n",
        "os.environ['CUDA_VISIBLE_DEVICES'] = '0'\n",
        "import torch\n",
        "from tqdm import tqdm_notebook # tqdm_notebook 진행 표시바\n",
        "import numpy as np\n",
        " \n",
        "batch_size=8\n",
        "model = Model() #정의된 모델 수행\n",
        "model.cuda()\n",
        "#criterion = torch.nn.CrossEntropyLoss() # LogSoftmax & NLLLoss, tf.nn.weighted_cross_entropy_with_logits\n",
        "class_weight = torch.FloatTensor(weights).cuda()\n",
        "criterion = torch.nn.CrossEntropyLoss(weight = class_weight)\n",
        "optimizer = torch.optim.Adam(model.parameters(), learning_rate) #gradient descent 알고리즘 : Adam\n",
        "\n",
        "for i_epoch in range(n_epoch + 1):\n",
        "  print('i_epoch:', i_epoch)\n",
        "  train_loss = 0 \n",
        "  model.train()\n",
        "  for batch_idx, batch_data in enumerate(train_dataloader): \n",
        "\n",
        "    # 배치를 GPU에 넣음\n",
        "    batch_data = tuple(t.to(device) for t in batch_data)\n",
        "    \n",
        "    # 배치에서 데이터 추출\n",
        "    b_input_ids, b_labels, b_input_mask, b_input_segment = batch_data\n",
        "\n",
        "    # 배치에서 데이터 추출\n",
        "    logit = model(b_input_ids, b_input_mask, b_input_segment)\n",
        "    batch_loss = criterion(logit, b_labels)\n",
        "    train_loss += batch_loss.item()\n",
        "    \n",
        "    model.zero_grad()\n",
        "    batch_loss.backward()\n",
        "    optimizer.step()\n",
        "    optimizer.zero_grad()\n",
        "\n",
        "  #시작 시간 설정\n",
        "  t0 = time.time()\n",
        "\n",
        "  # 평가모드로 변경\n",
        "  bert_predicted = []\n",
        "  all_logits = []\n",
        "  model.eval()\n",
        "  pred_list, true_list = np.array([]), np.array([])\n",
        "  for batch_idx, batch_data in enumerate(dev_dataloader):\n",
        "    # 배치를 GPU에 넣음\n",
        "    batch_data = tuple(t1.to(device) for t1 in batch_data)\n",
        "    # 배치에서 데이터 추출\n",
        "    b_input_ids, b_labels, b_input_mask, b_input_segment = batch_data\n",
        "    logit = model(b_input_ids, b_input_mask, b_input_segment)\n",
        "    _, max_idx = torch.max(logit, dim=-1) # tensor\n",
        "    \n",
        "    numpy_max_idx = max_idx.detach().cpu().numpy() \n",
        "    b_labels = b_labels.detach().cpu().numpy() \n",
        "\n",
        "    pred_list = np.append(pred_list, numpy_max_idx)\n",
        "    true_list = np.append(true_list, b_labels)\n",
        "    \n",
        "  evaluate(pred_list, true_list) # print results"
      ],
      "execution_count": 39,
      "outputs": [
        {
          "output_type": "stream",
          "text": [
            "i_epoch: 0\n",
            "[3. 7. 3. ... 0. 0. 2.]\n",
            "[2. 7. 3. ... 1. 0. 2.]\n",
            "precision:  ['0.8059', '0.6643', '0.1571', '0.6588', '0.1912', '0.0625', '0.4658', '0.6620']\n",
            "recall:\t\t ['0.4823', '0.4872', '0.3484', '0.1745', '0.3171', '0.0952', '0.3750', '0.8200']\n",
            "micro_f1: 0.549204\n",
            "Accuracy: 0.55\n",
            "i_epoch: 1\n",
            "[2. 7. 7. ... 7. 7. 7.]\n",
            "[0. 3. 7. ... 7. 0. 2.]\n",
            "precision:  ['0.7730', '0.6573', '0.0813', '0.5176', '0.4853', '0.3125', '0.5155', '0.6076']\n",
            "recall:\t\t ['0.4896', '0.4736', '0.2651', '0.2418', '0.1209', '0.1000', '0.3689', '0.8310']\n",
            "micro_f1: 0.513386\n",
            "Accuracy: 0.51\n",
            "i_epoch: 2\n",
            "[1. 2. 2. ... 2. 2. 7.]\n",
            "[7. 7. 2. ... 7. 2. 7.]\n",
            "precision:  ['0.7434', '0.5070', '0.3013', '0.3529', '0.2500', '0.2188', '0.4037', '0.7133']\n",
            "recall:\t\t ['0.5148', '0.5556', '0.3347', '0.2778', '0.3036', '0.0745', '0.4221', '0.7880']\n",
            "micro_f1: 0.568379\n",
            "Accuracy: 0.57\n"
          ],
          "name": "stdout"
        }
      ]
    },
    {
      "cell_type": "markdown",
      "metadata": {
        "id": "Y5Hh_8sUIFIn"
      },
      "source": [
        "##### **Labeling**\n"
      ]
    },
    {
      "cell_type": "code",
      "metadata": {
        "id": "aTYyt9G4Cp7W"
      },
      "source": [
        "# 문장 테스트\r\n",
        "def test_sentences(inputs, masks, segment):\r\n",
        "    \r\n",
        "    # 평가모드로 변경\r\n",
        "    model.eval()\r\n",
        "\r\n",
        "    # 데이터를 GPU에 넣음\r\n",
        "    b_input_ids = inputs.to(device)\r\n",
        "    b_input_mask = masks.to(device)\r\n",
        "    b_input_segment = segment.to(device)\r\n",
        "\r\n",
        "    # 그래디언트 계산 안함\r\n",
        "    with torch.no_grad():     \r\n",
        "        # Forward 수행\r\n",
        "        outputs = model(b_input_ids, b_input_mask, b_input_segment)\r\n",
        "    # 로스 구함\r\n",
        "    logits = outputs[0]\r\n",
        "\r\n",
        "    # CPU로 데이터 이동\r\n",
        "    #logits = logits.detach().cpu().numpy()\r\n",
        "    \r\n",
        "    return logits"
      ],
      "execution_count": 40,
      "outputs": []
    },
    {
      "cell_type": "code",
      "metadata": {
        "id": "zt7w5v0ZCsRE"
      },
      "source": [
        "pred_label=[]\r\n",
        "for i in range(len(test_inputs)):\r\n",
        "  input_id = test_inputs[i].unsqueeze(0)\r\n",
        "  input_mask =  test_masks[i].unsqueeze(0)\r\n",
        "  input_segment =  test_segment[i].unsqueeze(0) \r\n",
        "  logits = test_sentences(input_id,input_mask, input_segment)\r\n",
        "  #pred_flat = np.argmax(logits).flatten()\r\n",
        "  _, max_idx = torch.max(logits, dim=-1) # tensor\r\n",
        "  pred_emotion = max_idx.tolist()\r\n",
        "  pred_flat = i2e_dict_change[pred_emotion]\r\n",
        "  pred_label.append(pred_flat)"
      ],
      "execution_count": 41,
      "outputs": []
    },
    {
      "cell_type": "code",
      "metadata": {
        "colab": {
          "base_uri": "https://localhost:8080/"
        },
        "id": "zAwvLhpKCvOH",
        "outputId": "e21c2aa6-9180-4436-f6f0-b8fbc340a314"
      },
      "source": [
        "df = pd.DataFrame(df_test, columns=['id'])\r\n",
        "df['Predicted'] = pred_label\r\n",
        "print(df)"
      ],
      "execution_count": 42,
      "outputs": [
        {
          "output_type": "stream",
          "text": [
            "        id Predicted\n",
            "0        0   neutral\n",
            "1        1  surprise\n",
            "2        2     anger\n",
            "3        3   neutral\n",
            "4        4     anger\n",
            "...    ...       ...\n",
            "1618  1618      fear\n",
            "1619  1619       joy\n",
            "1620  1620   neutral\n",
            "1621  1621   neutral\n",
            "1622  1622       joy\n",
            "\n",
            "[1623 rows x 2 columns]\n"
          ],
          "name": "stdout"
        }
      ]
    },
    {
      "cell_type": "code",
      "metadata": {
        "id": "Ez31waPKCxz_"
      },
      "source": [
        "df.to_csv(\"test_friends.csv\", sep=\",\",index=False)"
      ],
      "execution_count": 43,
      "outputs": []
    },
    {
      "cell_type": "markdown",
      "metadata": {
        "id": "R3riAqyoPwhb"
      },
      "source": [
        "##### **Proposal**"
      ]
    },
    {
      "cell_type": "markdown",
      "metadata": {
        "id": "rWEWuZF31iGY"
      },
      "source": [
        "- There is a class imbalance problem. (Use weighted cross-entropy etc.)\n",
        "\n",
        "- Our model takes a single sentence. (Make it grasp its context as well.)\n",
        "\n",
        "- Our model does not consider speaker information. (Make it consider the info.)\n",
        "\n",
        "- Batch size is set as 1. (Increase the batch size.)"
      ]
    }
  ]
}