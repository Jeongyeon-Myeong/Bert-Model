{
  "nbformat": 4,
  "nbformat_minor": 0,
  "metadata": {
    "accelerator": "GPU",
    "colab": {
      "name": "BERT_한국어_Naver Movie_데이터_NLP.ipynb",
      "provenance": [],
      "collapsed_sections": [],
      "machine_shape": "hm",
      "include_colab_link": true
    },
    "kernelspec": {
      "display_name": "Python 3",
      "name": "python3"
    },
    "widgets": {
      "application/vnd.jupyter.widget-state+json": {
        "68ecb59290eb42eaa9061272706b3ecb": {
          "model_module": "@jupyter-widgets/controls",
          "model_name": "HBoxModel",
          "state": {
            "_view_name": "HBoxView",
            "_dom_classes": [],
            "_model_name": "HBoxModel",
            "_view_module": "@jupyter-widgets/controls",
            "_model_module_version": "1.5.0",
            "_view_count": null,
            "_view_module_version": "1.5.0",
            "box_style": "",
            "layout": "IPY_MODEL_576a76a859594c1f90d9f70274b237e7",
            "_model_module": "@jupyter-widgets/controls",
            "children": [
              "IPY_MODEL_018ec6560987423fa1c0d0103bfb4eb8",
              "IPY_MODEL_89538c07281742c49d58accdcc6b15d7"
            ]
          }
        },
        "576a76a859594c1f90d9f70274b237e7": {
          "model_module": "@jupyter-widgets/base",
          "model_name": "LayoutModel",
          "state": {
            "_view_name": "LayoutView",
            "grid_template_rows": null,
            "right": null,
            "justify_content": null,
            "_view_module": "@jupyter-widgets/base",
            "overflow": null,
            "_model_module_version": "1.2.0",
            "_view_count": null,
            "flex_flow": null,
            "width": null,
            "min_width": null,
            "border": null,
            "align_items": null,
            "bottom": null,
            "_model_module": "@jupyter-widgets/base",
            "top": null,
            "grid_column": null,
            "overflow_y": null,
            "overflow_x": null,
            "grid_auto_flow": null,
            "grid_area": null,
            "grid_template_columns": null,
            "flex": null,
            "_model_name": "LayoutModel",
            "justify_items": null,
            "grid_row": null,
            "max_height": null,
            "align_content": null,
            "visibility": null,
            "align_self": null,
            "height": null,
            "min_height": null,
            "padding": null,
            "grid_auto_rows": null,
            "grid_gap": null,
            "max_width": null,
            "order": null,
            "_view_module_version": "1.2.0",
            "grid_template_areas": null,
            "object_position": null,
            "object_fit": null,
            "grid_auto_columns": null,
            "margin": null,
            "display": null,
            "left": null
          }
        },
        "018ec6560987423fa1c0d0103bfb4eb8": {
          "model_module": "@jupyter-widgets/controls",
          "model_name": "FloatProgressModel",
          "state": {
            "_view_name": "ProgressView",
            "style": "IPY_MODEL_3ffa5f8cea284b90aafb796a8591eca7",
            "_dom_classes": [],
            "description": "Downloading: 100%",
            "_model_name": "FloatProgressModel",
            "bar_style": "success",
            "max": 995526,
            "_view_module": "@jupyter-widgets/controls",
            "_model_module_version": "1.5.0",
            "value": 995526,
            "_view_count": null,
            "_view_module_version": "1.5.0",
            "orientation": "horizontal",
            "min": 0,
            "description_tooltip": null,
            "_model_module": "@jupyter-widgets/controls",
            "layout": "IPY_MODEL_9385ab3ff6784db8a079cf8ecd5d805f"
          }
        },
        "89538c07281742c49d58accdcc6b15d7": {
          "model_module": "@jupyter-widgets/controls",
          "model_name": "HTMLModel",
          "state": {
            "_view_name": "HTMLView",
            "style": "IPY_MODEL_5d396dfc2fbf425bb1ebbae04189035e",
            "_dom_classes": [],
            "description": "",
            "_model_name": "HTMLModel",
            "placeholder": "​",
            "_view_module": "@jupyter-widgets/controls",
            "_model_module_version": "1.5.0",
            "value": " 996k/996k [00:00&lt;00:00, 1.64MB/s]",
            "_view_count": null,
            "_view_module_version": "1.5.0",
            "description_tooltip": null,
            "_model_module": "@jupyter-widgets/controls",
            "layout": "IPY_MODEL_f98afba36e3449bb93db80a7c54c3e82"
          }
        },
        "3ffa5f8cea284b90aafb796a8591eca7": {
          "model_module": "@jupyter-widgets/controls",
          "model_name": "ProgressStyleModel",
          "state": {
            "_view_name": "StyleView",
            "_model_name": "ProgressStyleModel",
            "description_width": "initial",
            "_view_module": "@jupyter-widgets/base",
            "_model_module_version": "1.5.0",
            "_view_count": null,
            "_view_module_version": "1.2.0",
            "bar_color": null,
            "_model_module": "@jupyter-widgets/controls"
          }
        },
        "9385ab3ff6784db8a079cf8ecd5d805f": {
          "model_module": "@jupyter-widgets/base",
          "model_name": "LayoutModel",
          "state": {
            "_view_name": "LayoutView",
            "grid_template_rows": null,
            "right": null,
            "justify_content": null,
            "_view_module": "@jupyter-widgets/base",
            "overflow": null,
            "_model_module_version": "1.2.0",
            "_view_count": null,
            "flex_flow": null,
            "width": null,
            "min_width": null,
            "border": null,
            "align_items": null,
            "bottom": null,
            "_model_module": "@jupyter-widgets/base",
            "top": null,
            "grid_column": null,
            "overflow_y": null,
            "overflow_x": null,
            "grid_auto_flow": null,
            "grid_area": null,
            "grid_template_columns": null,
            "flex": null,
            "_model_name": "LayoutModel",
            "justify_items": null,
            "grid_row": null,
            "max_height": null,
            "align_content": null,
            "visibility": null,
            "align_self": null,
            "height": null,
            "min_height": null,
            "padding": null,
            "grid_auto_rows": null,
            "grid_gap": null,
            "max_width": null,
            "order": null,
            "_view_module_version": "1.2.0",
            "grid_template_areas": null,
            "object_position": null,
            "object_fit": null,
            "grid_auto_columns": null,
            "margin": null,
            "display": null,
            "left": null
          }
        },
        "5d396dfc2fbf425bb1ebbae04189035e": {
          "model_module": "@jupyter-widgets/controls",
          "model_name": "DescriptionStyleModel",
          "state": {
            "_view_name": "StyleView",
            "_model_name": "DescriptionStyleModel",
            "description_width": "",
            "_view_module": "@jupyter-widgets/base",
            "_model_module_version": "1.5.0",
            "_view_count": null,
            "_view_module_version": "1.2.0",
            "_model_module": "@jupyter-widgets/controls"
          }
        },
        "f98afba36e3449bb93db80a7c54c3e82": {
          "model_module": "@jupyter-widgets/base",
          "model_name": "LayoutModel",
          "state": {
            "_view_name": "LayoutView",
            "grid_template_rows": null,
            "right": null,
            "justify_content": null,
            "_view_module": "@jupyter-widgets/base",
            "overflow": null,
            "_model_module_version": "1.2.0",
            "_view_count": null,
            "flex_flow": null,
            "width": null,
            "min_width": null,
            "border": null,
            "align_items": null,
            "bottom": null,
            "_model_module": "@jupyter-widgets/base",
            "top": null,
            "grid_column": null,
            "overflow_y": null,
            "overflow_x": null,
            "grid_auto_flow": null,
            "grid_area": null,
            "grid_template_columns": null,
            "flex": null,
            "_model_name": "LayoutModel",
            "justify_items": null,
            "grid_row": null,
            "max_height": null,
            "align_content": null,
            "visibility": null,
            "align_self": null,
            "height": null,
            "min_height": null,
            "padding": null,
            "grid_auto_rows": null,
            "grid_gap": null,
            "max_width": null,
            "order": null,
            "_view_module_version": "1.2.0",
            "grid_template_areas": null,
            "object_position": null,
            "object_fit": null,
            "grid_auto_columns": null,
            "margin": null,
            "display": null,
            "left": null
          }
        },
        "f4373d6feebe425a9b493b053d71e77d": {
          "model_module": "@jupyter-widgets/controls",
          "model_name": "HBoxModel",
          "state": {
            "_view_name": "HBoxView",
            "_dom_classes": [],
            "_model_name": "HBoxModel",
            "_view_module": "@jupyter-widgets/controls",
            "_model_module_version": "1.5.0",
            "_view_count": null,
            "_view_module_version": "1.5.0",
            "box_style": "",
            "layout": "IPY_MODEL_b283c09e11724b4a9999acebcd48bb59",
            "_model_module": "@jupyter-widgets/controls",
            "children": [
              "IPY_MODEL_34c8cef814e9478ea96b3d7fd0a2a714",
              "IPY_MODEL_fa430d8cbe864df2b4ea1f4141cbb923"
            ]
          }
        },
        "b283c09e11724b4a9999acebcd48bb59": {
          "model_module": "@jupyter-widgets/base",
          "model_name": "LayoutModel",
          "state": {
            "_view_name": "LayoutView",
            "grid_template_rows": null,
            "right": null,
            "justify_content": null,
            "_view_module": "@jupyter-widgets/base",
            "overflow": null,
            "_model_module_version": "1.2.0",
            "_view_count": null,
            "flex_flow": null,
            "width": null,
            "min_width": null,
            "border": null,
            "align_items": null,
            "bottom": null,
            "_model_module": "@jupyter-widgets/base",
            "top": null,
            "grid_column": null,
            "overflow_y": null,
            "overflow_x": null,
            "grid_auto_flow": null,
            "grid_area": null,
            "grid_template_columns": null,
            "flex": null,
            "_model_name": "LayoutModel",
            "justify_items": null,
            "grid_row": null,
            "max_height": null,
            "align_content": null,
            "visibility": null,
            "align_self": null,
            "height": null,
            "min_height": null,
            "padding": null,
            "grid_auto_rows": null,
            "grid_gap": null,
            "max_width": null,
            "order": null,
            "_view_module_version": "1.2.0",
            "grid_template_areas": null,
            "object_position": null,
            "object_fit": null,
            "grid_auto_columns": null,
            "margin": null,
            "display": null,
            "left": null
          }
        },
        "34c8cef814e9478ea96b3d7fd0a2a714": {
          "model_module": "@jupyter-widgets/controls",
          "model_name": "FloatProgressModel",
          "state": {
            "_view_name": "ProgressView",
            "style": "IPY_MODEL_c09fe90af0624c3295d324777aad59e5",
            "_dom_classes": [],
            "description": "Downloading: 100%",
            "_model_name": "FloatProgressModel",
            "bar_style": "success",
            "max": 625,
            "_view_module": "@jupyter-widgets/controls",
            "_model_module_version": "1.5.0",
            "value": 625,
            "_view_count": null,
            "_view_module_version": "1.5.0",
            "orientation": "horizontal",
            "min": 0,
            "description_tooltip": null,
            "_model_module": "@jupyter-widgets/controls",
            "layout": "IPY_MODEL_e65807b9619948eeac153a5a30b22eeb"
          }
        },
        "fa430d8cbe864df2b4ea1f4141cbb923": {
          "model_module": "@jupyter-widgets/controls",
          "model_name": "HTMLModel",
          "state": {
            "_view_name": "HTMLView",
            "style": "IPY_MODEL_6600b7c002cd4696bfcd26a59cfdc63c",
            "_dom_classes": [],
            "description": "",
            "_model_name": "HTMLModel",
            "placeholder": "​",
            "_view_module": "@jupyter-widgets/controls",
            "_model_module_version": "1.5.0",
            "value": " 625/625 [00:00&lt;00:00, 697B/s]",
            "_view_count": null,
            "_view_module_version": "1.5.0",
            "description_tooltip": null,
            "_model_module": "@jupyter-widgets/controls",
            "layout": "IPY_MODEL_7093ac896c5e4ffaa7ae760bbd20bd67"
          }
        },
        "c09fe90af0624c3295d324777aad59e5": {
          "model_module": "@jupyter-widgets/controls",
          "model_name": "ProgressStyleModel",
          "state": {
            "_view_name": "StyleView",
            "_model_name": "ProgressStyleModel",
            "description_width": "initial",
            "_view_module": "@jupyter-widgets/base",
            "_model_module_version": "1.5.0",
            "_view_count": null,
            "_view_module_version": "1.2.0",
            "bar_color": null,
            "_model_module": "@jupyter-widgets/controls"
          }
        },
        "e65807b9619948eeac153a5a30b22eeb": {
          "model_module": "@jupyter-widgets/base",
          "model_name": "LayoutModel",
          "state": {
            "_view_name": "LayoutView",
            "grid_template_rows": null,
            "right": null,
            "justify_content": null,
            "_view_module": "@jupyter-widgets/base",
            "overflow": null,
            "_model_module_version": "1.2.0",
            "_view_count": null,
            "flex_flow": null,
            "width": null,
            "min_width": null,
            "border": null,
            "align_items": null,
            "bottom": null,
            "_model_module": "@jupyter-widgets/base",
            "top": null,
            "grid_column": null,
            "overflow_y": null,
            "overflow_x": null,
            "grid_auto_flow": null,
            "grid_area": null,
            "grid_template_columns": null,
            "flex": null,
            "_model_name": "LayoutModel",
            "justify_items": null,
            "grid_row": null,
            "max_height": null,
            "align_content": null,
            "visibility": null,
            "align_self": null,
            "height": null,
            "min_height": null,
            "padding": null,
            "grid_auto_rows": null,
            "grid_gap": null,
            "max_width": null,
            "order": null,
            "_view_module_version": "1.2.0",
            "grid_template_areas": null,
            "object_position": null,
            "object_fit": null,
            "grid_auto_columns": null,
            "margin": null,
            "display": null,
            "left": null
          }
        },
        "6600b7c002cd4696bfcd26a59cfdc63c": {
          "model_module": "@jupyter-widgets/controls",
          "model_name": "DescriptionStyleModel",
          "state": {
            "_view_name": "StyleView",
            "_model_name": "DescriptionStyleModel",
            "description_width": "",
            "_view_module": "@jupyter-widgets/base",
            "_model_module_version": "1.5.0",
            "_view_count": null,
            "_view_module_version": "1.2.0",
            "_model_module": "@jupyter-widgets/controls"
          }
        },
        "7093ac896c5e4ffaa7ae760bbd20bd67": {
          "model_module": "@jupyter-widgets/base",
          "model_name": "LayoutModel",
          "state": {
            "_view_name": "LayoutView",
            "grid_template_rows": null,
            "right": null,
            "justify_content": null,
            "_view_module": "@jupyter-widgets/base",
            "overflow": null,
            "_model_module_version": "1.2.0",
            "_view_count": null,
            "flex_flow": null,
            "width": null,
            "min_width": null,
            "border": null,
            "align_items": null,
            "bottom": null,
            "_model_module": "@jupyter-widgets/base",
            "top": null,
            "grid_column": null,
            "overflow_y": null,
            "overflow_x": null,
            "grid_auto_flow": null,
            "grid_area": null,
            "grid_template_columns": null,
            "flex": null,
            "_model_name": "LayoutModel",
            "justify_items": null,
            "grid_row": null,
            "max_height": null,
            "align_content": null,
            "visibility": null,
            "align_self": null,
            "height": null,
            "min_height": null,
            "padding": null,
            "grid_auto_rows": null,
            "grid_gap": null,
            "max_width": null,
            "order": null,
            "_view_module_version": "1.2.0",
            "grid_template_areas": null,
            "object_position": null,
            "object_fit": null,
            "grid_auto_columns": null,
            "margin": null,
            "display": null,
            "left": null
          }
        },
        "defc95b508f9435391d5a705763f5a6a": {
          "model_module": "@jupyter-widgets/controls",
          "model_name": "HBoxModel",
          "state": {
            "_view_name": "HBoxView",
            "_dom_classes": [],
            "_model_name": "HBoxModel",
            "_view_module": "@jupyter-widgets/controls",
            "_model_module_version": "1.5.0",
            "_view_count": null,
            "_view_module_version": "1.5.0",
            "box_style": "",
            "layout": "IPY_MODEL_84428555eb69427fa34f8bc9e7531d68",
            "_model_module": "@jupyter-widgets/controls",
            "children": [
              "IPY_MODEL_7d4894f2302b4fa58c282cd2da1a4b04",
              "IPY_MODEL_27bffeb399df491db32701579645a0d5"
            ]
          }
        },
        "84428555eb69427fa34f8bc9e7531d68": {
          "model_module": "@jupyter-widgets/base",
          "model_name": "LayoutModel",
          "state": {
            "_view_name": "LayoutView",
            "grid_template_rows": null,
            "right": null,
            "justify_content": null,
            "_view_module": "@jupyter-widgets/base",
            "overflow": null,
            "_model_module_version": "1.2.0",
            "_view_count": null,
            "flex_flow": null,
            "width": null,
            "min_width": null,
            "border": null,
            "align_items": null,
            "bottom": null,
            "_model_module": "@jupyter-widgets/base",
            "top": null,
            "grid_column": null,
            "overflow_y": null,
            "overflow_x": null,
            "grid_auto_flow": null,
            "grid_area": null,
            "grid_template_columns": null,
            "flex": null,
            "_model_name": "LayoutModel",
            "justify_items": null,
            "grid_row": null,
            "max_height": null,
            "align_content": null,
            "visibility": null,
            "align_self": null,
            "height": null,
            "min_height": null,
            "padding": null,
            "grid_auto_rows": null,
            "grid_gap": null,
            "max_width": null,
            "order": null,
            "_view_module_version": "1.2.0",
            "grid_template_areas": null,
            "object_position": null,
            "object_fit": null,
            "grid_auto_columns": null,
            "margin": null,
            "display": null,
            "left": null
          }
        },
        "7d4894f2302b4fa58c282cd2da1a4b04": {
          "model_module": "@jupyter-widgets/controls",
          "model_name": "FloatProgressModel",
          "state": {
            "_view_name": "ProgressView",
            "style": "IPY_MODEL_10350e4f51a34d9d9db71b4bdd18b7da",
            "_dom_classes": [],
            "description": "Downloading: 100%",
            "_model_name": "FloatProgressModel",
            "bar_style": "success",
            "max": 714314041,
            "_view_module": "@jupyter-widgets/controls",
            "_model_module_version": "1.5.0",
            "value": 714314041,
            "_view_count": null,
            "_view_module_version": "1.5.0",
            "orientation": "horizontal",
            "min": 0,
            "description_tooltip": null,
            "_model_module": "@jupyter-widgets/controls",
            "layout": "IPY_MODEL_6568912c7573432688e84f1ba3f39026"
          }
        },
        "27bffeb399df491db32701579645a0d5": {
          "model_module": "@jupyter-widgets/controls",
          "model_name": "HTMLModel",
          "state": {
            "_view_name": "HTMLView",
            "style": "IPY_MODEL_0c3ddd1d7be344748dc941bac9de5041",
            "_dom_classes": [],
            "description": "",
            "_model_name": "HTMLModel",
            "placeholder": "​",
            "_view_module": "@jupyter-widgets/controls",
            "_model_module_version": "1.5.0",
            "value": " 714M/714M [00:26&lt;00:00, 26.9MB/s]",
            "_view_count": null,
            "_view_module_version": "1.5.0",
            "description_tooltip": null,
            "_model_module": "@jupyter-widgets/controls",
            "layout": "IPY_MODEL_bbdf97edd305400ba259ce08554cf7f3"
          }
        },
        "10350e4f51a34d9d9db71b4bdd18b7da": {
          "model_module": "@jupyter-widgets/controls",
          "model_name": "ProgressStyleModel",
          "state": {
            "_view_name": "StyleView",
            "_model_name": "ProgressStyleModel",
            "description_width": "initial",
            "_view_module": "@jupyter-widgets/base",
            "_model_module_version": "1.5.0",
            "_view_count": null,
            "_view_module_version": "1.2.0",
            "bar_color": null,
            "_model_module": "@jupyter-widgets/controls"
          }
        },
        "6568912c7573432688e84f1ba3f39026": {
          "model_module": "@jupyter-widgets/base",
          "model_name": "LayoutModel",
          "state": {
            "_view_name": "LayoutView",
            "grid_template_rows": null,
            "right": null,
            "justify_content": null,
            "_view_module": "@jupyter-widgets/base",
            "overflow": null,
            "_model_module_version": "1.2.0",
            "_view_count": null,
            "flex_flow": null,
            "width": null,
            "min_width": null,
            "border": null,
            "align_items": null,
            "bottom": null,
            "_model_module": "@jupyter-widgets/base",
            "top": null,
            "grid_column": null,
            "overflow_y": null,
            "overflow_x": null,
            "grid_auto_flow": null,
            "grid_area": null,
            "grid_template_columns": null,
            "flex": null,
            "_model_name": "LayoutModel",
            "justify_items": null,
            "grid_row": null,
            "max_height": null,
            "align_content": null,
            "visibility": null,
            "align_self": null,
            "height": null,
            "min_height": null,
            "padding": null,
            "grid_auto_rows": null,
            "grid_gap": null,
            "max_width": null,
            "order": null,
            "_view_module_version": "1.2.0",
            "grid_template_areas": null,
            "object_position": null,
            "object_fit": null,
            "grid_auto_columns": null,
            "margin": null,
            "display": null,
            "left": null
          }
        },
        "0c3ddd1d7be344748dc941bac9de5041": {
          "model_module": "@jupyter-widgets/controls",
          "model_name": "DescriptionStyleModel",
          "state": {
            "_view_name": "StyleView",
            "_model_name": "DescriptionStyleModel",
            "description_width": "",
            "_view_module": "@jupyter-widgets/base",
            "_model_module_version": "1.5.0",
            "_view_count": null,
            "_view_module_version": "1.2.0",
            "_model_module": "@jupyter-widgets/controls"
          }
        },
        "bbdf97edd305400ba259ce08554cf7f3": {
          "model_module": "@jupyter-widgets/base",
          "model_name": "LayoutModel",
          "state": {
            "_view_name": "LayoutView",
            "grid_template_rows": null,
            "right": null,
            "justify_content": null,
            "_view_module": "@jupyter-widgets/base",
            "overflow": null,
            "_model_module_version": "1.2.0",
            "_view_count": null,
            "flex_flow": null,
            "width": null,
            "min_width": null,
            "border": null,
            "align_items": null,
            "bottom": null,
            "_model_module": "@jupyter-widgets/base",
            "top": null,
            "grid_column": null,
            "overflow_y": null,
            "overflow_x": null,
            "grid_auto_flow": null,
            "grid_area": null,
            "grid_template_columns": null,
            "flex": null,
            "_model_name": "LayoutModel",
            "justify_items": null,
            "grid_row": null,
            "max_height": null,
            "align_content": null,
            "visibility": null,
            "align_self": null,
            "height": null,
            "min_height": null,
            "padding": null,
            "grid_auto_rows": null,
            "grid_gap": null,
            "max_width": null,
            "order": null,
            "_view_module_version": "1.2.0",
            "grid_template_areas": null,
            "object_position": null,
            "object_fit": null,
            "grid_auto_columns": null,
            "margin": null,
            "display": null,
            "left": null
          }
        }
      }
    }
  },
  "cells": [
    {
      "cell_type": "markdown",
      "metadata": {
        "id": "view-in-github",
        "colab_type": "text"
      },
      "source": [
        "<a href=\"https://colab.research.google.com/github/Jeongyeon-Myeong/Python-Project/blob/master/BERT_%ED%95%9C%EA%B5%AD%EC%96%B4_Naver_Movie_%EB%8D%B0%EC%9D%B4%ED%84%B0_NLP.ipynb\" target=\"_parent\"><img src=\"https://colab.research.google.com/assets/colab-badge.svg\" alt=\"Open In Colab\"/></a>"
      ]
    },
    {
      "cell_type": "markdown",
      "metadata": {
        "id": "CfPYyPLERU-H"
      },
      "source": [
        "# **Preparation**"
      ]
    },
    {
      "cell_type": "markdown",
      "metadata": {
        "id": "XT4PIM2xRgBp"
      },
      "source": [
        "- Edit > Notebook settings > Hardward accelerators > GPU > SAVE\n",
        "- Download the NSMC dataset in EmotionLines website:\n",
        "https://github.com/e9t/nsmc.git\n"
      ]
    },
    {
      "cell_type": "markdown",
      "metadata": {
        "id": "idM2mzIOxygV"
      },
      "source": [
        "# **Model**"
      ]
    },
    {
      "cell_type": "markdown",
      "metadata": {
        "id": "5NWok7mf5xZk"
      },
      "source": [
        "##### **Settings**"
      ]
    },
    {
      "cell_type": "code",
      "metadata": {
        "id": "vZewOX-D9BLJ",
        "colab": {
          "base_uri": "https://localhost:8080/"
        },
        "outputId": "7ad54678-28a1-4218-f770-ec26c6b93f04"
      },
      "source": [
        "!pip install transformers --quiet # package installer for python"
      ],
      "execution_count": null,
      "outputs": [
        {
          "output_type": "stream",
          "text": [
            "\u001b[K     |████████████████████████████████| 1.5MB 6.5MB/s \n",
            "\u001b[K     |████████████████████████████████| 2.9MB 56.8MB/s \n",
            "\u001b[K     |████████████████████████████████| 890kB 48.7MB/s \n",
            "\u001b[?25h  Building wheel for sacremoses (setup.py) ... \u001b[?25l\u001b[?25hdone\n"
          ],
          "name": "stdout"
        }
      ]
    },
    {
      "cell_type": "code",
      "metadata": {
        "id": "6idZebToz_Wa"
      },
      "source": [
        "import torch\n",
        "from transformers import BertModel, BertTokenizer"
      ],
      "execution_count": null,
      "outputs": []
    },
    {
      "cell_type": "code",
      "metadata": {
        "id": "VKYIuzDw6mCq",
        "colab": {
          "base_uri": "https://localhost:8080/",
          "height": 167,
          "referenced_widgets": [
            "68ecb59290eb42eaa9061272706b3ecb",
            "576a76a859594c1f90d9f70274b237e7",
            "018ec6560987423fa1c0d0103bfb4eb8",
            "89538c07281742c49d58accdcc6b15d7",
            "3ffa5f8cea284b90aafb796a8591eca7",
            "9385ab3ff6784db8a079cf8ecd5d805f",
            "5d396dfc2fbf425bb1ebbae04189035e",
            "f98afba36e3449bb93db80a7c54c3e82",
            "f4373d6feebe425a9b493b053d71e77d",
            "b283c09e11724b4a9999acebcd48bb59",
            "34c8cef814e9478ea96b3d7fd0a2a714",
            "fa430d8cbe864df2b4ea1f4141cbb923",
            "c09fe90af0624c3295d324777aad59e5",
            "e65807b9619948eeac153a5a30b22eeb",
            "6600b7c002cd4696bfcd26a59cfdc63c",
            "7093ac896c5e4ffaa7ae760bbd20bd67",
            "defc95b508f9435391d5a705763f5a6a",
            "84428555eb69427fa34f8bc9e7531d68",
            "7d4894f2302b4fa58c282cd2da1a4b04",
            "27bffeb399df491db32701579645a0d5",
            "10350e4f51a34d9d9db71b4bdd18b7da",
            "6568912c7573432688e84f1ba3f39026",
            "0c3ddd1d7be344748dc941bac9de5041",
            "bbdf97edd305400ba259ce08554cf7f3"
          ]
        },
        "outputId": "fe49e13e-c98a-4578-a6ef-9c001616975e"
      },
      "source": [
        "pretrained_weights = 'bert-base-multilingual-cased'\n",
        "tokenizer = BertTokenizer.from_pretrained(pretrained_weights) #bert tokenizer\n",
        "model = BertModel.from_pretrained(pretrained_weights) # bert model"
      ],
      "execution_count": null,
      "outputs": [
        {
          "output_type": "display_data",
          "data": {
            "application/vnd.jupyter.widget-view+json": {
              "model_id": "68ecb59290eb42eaa9061272706b3ecb",
              "version_minor": 0,
              "version_major": 2
            },
            "text/plain": [
              "HBox(children=(FloatProgress(value=0.0, description='Downloading', max=995526.0, style=ProgressStyle(descripti…"
            ]
          },
          "metadata": {
            "tags": []
          }
        },
        {
          "output_type": "stream",
          "text": [
            "\n"
          ],
          "name": "stdout"
        },
        {
          "output_type": "display_data",
          "data": {
            "application/vnd.jupyter.widget-view+json": {
              "model_id": "f4373d6feebe425a9b493b053d71e77d",
              "version_minor": 0,
              "version_major": 2
            },
            "text/plain": [
              "HBox(children=(FloatProgress(value=0.0, description='Downloading', max=625.0, style=ProgressStyle(description_…"
            ]
          },
          "metadata": {
            "tags": []
          }
        },
        {
          "output_type": "stream",
          "text": [
            "\n"
          ],
          "name": "stdout"
        },
        {
          "output_type": "display_data",
          "data": {
            "application/vnd.jupyter.widget-view+json": {
              "model_id": "defc95b508f9435391d5a705763f5a6a",
              "version_minor": 0,
              "version_major": 2
            },
            "text/plain": [
              "HBox(children=(FloatProgress(value=0.0, description='Downloading', max=714314041.0, style=ProgressStyle(descri…"
            ]
          },
          "metadata": {
            "tags": []
          }
        },
        {
          "output_type": "stream",
          "text": [
            "\n"
          ],
          "name": "stdout"
        }
      ]
    },
    {
      "cell_type": "markdown",
      "metadata": {
        "id": "UCpSWlYV7ja0"
      },
      "source": [
        "##### **Tokenization(example)**"
      ]
    },
    {
      "cell_type": "code",
      "metadata": {
        "id": "shaQM8GE9RIR"
      },
      "source": [
        "#예시 문장\n",
        "sentence = '포스터만 보고 기대했다가 실패했어.'\n",
        " #'[CLS] 포스터만 보고 기대했다가 실패했어. [SEP] [PAD]',"
      ],
      "execution_count": null,
      "outputs": []
    },
    {
      "cell_type": "code",
      "metadata": {
        "colab": {
          "base_uri": "https://localhost:8080/"
        },
        "id": "WAxXbZXW3ueJ",
        "outputId": "32484d17-dd41-425e-ec3f-af9f14e99964"
      },
      "source": [
        " #bert tokenizer로 토큰화\n",
        "tokens = tokenizer.tokenize(sentence)\n",
        "tokens = ['[CLS]'] + tokens + ['[SEP]']\n",
        "print(tokens)"
      ],
      "execution_count": null,
      "outputs": [
        {
          "output_type": "stream",
          "text": [
            "['[CLS]', '포', '##스터', '##만', '보고', '기', '##대', '##했다', '##가', '실', '##패', '##했', '##어', '.', '[SEP]']\n"
          ],
          "name": "stdout"
        }
      ]
    },
    {
      "cell_type": "code",
      "metadata": {
        "colab": {
          "base_uri": "https://localhost:8080/"
        },
        "id": "4wcGm1oJ4Df7",
        "outputId": "c1ed7192-1140-4130-fadf-0df51673bfa7"
      },
      "source": [
        "# token하여 id로 바꾼다.[[101, 9928, 58823, 19105, 98199, 8932, 14423, 12490, 11287, 9489, 119383, 119424, 12965, 119, 102, 0, 0, 0, 0]]\n",
        "#Converts a token string (or a sequence of tokens) in a single integer id (or a sequence of ids), using the vocabulary.\n",
        "ids = [tokenizer.convert_tokens_to_ids(tokens)]\n",
        "print(ids)"
      ],
      "execution_count": null,
      "outputs": [
        {
          "output_type": "stream",
          "text": [
            "[[101, 9928, 58823, 19105, 98199, 8932, 14423, 12490, 11287, 9489, 119383, 119424, 12965, 119, 102]]\n"
          ],
          "name": "stdout"
        }
      ]
    },
    {
      "cell_type": "code",
      "metadata": {
        "id": "katkRyGetaPA"
      },
      "source": [
        "attention_masks = [[1, 1, 1, 1, 1, 1, 1, 1, 1, 1, 1, 1, 1, 1, 1, 0, 0, 0, 0]]\r\n",
        "ids = [[101, 9928, 58823, 19105, 98199, 8932, 14423, 12490, 11287, 9489, 119383, 119424, 12965, 119, 102, 0, 0, 0, 0]]"
      ],
      "execution_count": null,
      "outputs": []
    },
    {
      "cell_type": "code",
      "metadata": {
        "id": "RGVa_OCH-31F"
      },
      "source": [
        "#tensor로 변경\n",
        "input_tensor = torch.tensor(ids)\n",
        "masks_tensor = torch.tensor(attention_masks)"
      ],
      "execution_count": null,
      "outputs": []
    },
    {
      "cell_type": "markdown",
      "metadata": {
        "id": "Ns0LjLOd7Ry5"
      },
      "source": [
        "##### **Model(example)**"
      ]
    },
    {
      "cell_type": "code",
      "metadata": {
        "colab": {
          "base_uri": "https://localhost:8080/"
        },
        "id": "IBGZFEn08vbW",
        "outputId": "ade1f51f-27ae-4a47-f42f-567f7106c901"
      },
      "source": [
        "# id값을 bert모델에 넣기\n",
        "hidden_tensor = model(input_tensor, attention_mask = masks_tensor)[0]\n",
        "print(hidden_tensor.size())"
      ],
      "execution_count": null,
      "outputs": [
        {
          "output_type": "stream",
          "text": [
            "torch.Size([1, 19, 768])\n"
          ],
          "name": "stdout"
        }
      ]
    },
    {
      "cell_type": "code",
      "metadata": {
        "colab": {
          "base_uri": "https://localhost:8080/"
        },
        "id": "i3yB6A3dCN6T",
        "outputId": "ac3a11e3-6b56-4c83-9f9b-87d575e61df5"
      },
      "source": [
        "#torch.Size\n",
        "logit = torch.nn.Linear(768, 2)(hidden_tensor)\n",
        "print(logit.size())"
      ],
      "execution_count": null,
      "outputs": [
        {
          "output_type": "stream",
          "text": [
            "torch.Size([1, 19, 2])\n"
          ],
          "name": "stdout"
        }
      ]
    },
    {
      "cell_type": "code",
      "metadata": {
        "colab": {
          "base_uri": "https://localhost:8080/"
        },
        "id": "qd5X-Id3DERC",
        "outputId": "a69a2a7a-bba6-49f7-8d9a-45f51ac67de4"
      },
      "source": [
        "prediction = torch.nn.Softmax(dim=-1)(logit)\n",
        "print(prediction.size())"
      ],
      "execution_count": null,
      "outputs": [
        {
          "output_type": "stream",
          "text": [
            "torch.Size([1, 19, 2])\n"
          ],
          "name": "stdout"
        }
      ]
    },
    {
      "cell_type": "markdown",
      "metadata": {
        "id": "yPKnl3-7yCnJ"
      },
      "source": [
        "# **LABEL Recognition**"
      ]
    },
    {
      "cell_type": "markdown",
      "metadata": {
        "id": "Sk8Fa9xrzndp"
      },
      "source": [
        "**Train and Dev Dataset**"
      ]
    },
    {
      "cell_type": "code",
      "metadata": {
        "colab": {
          "base_uri": "https://localhost:8080/"
        },
        "id": "nFSp-U4HqheI",
        "outputId": "ee2b417a-7d7e-4741-8f33-c3d6ea5fe766"
      },
      "source": [
        "# 네이버 영화리뷰 감정분석 데이터 다운로드\r\n",
        "!git clone https://github.com/e9t/nsmc.git"
      ],
      "execution_count": null,
      "outputs": [
        {
          "output_type": "stream",
          "text": [
            "Cloning into 'nsmc'...\n",
            "remote: Enumerating objects: 14763, done.\u001b[K\n",
            "remote: Total 14763 (delta 0), reused 0 (delta 0), pack-reused 14763\u001b[K\n",
            "Receiving objects: 100% (14763/14763), 56.19 MiB | 17.84 MiB/s, done.\n",
            "Resolving deltas: 100% (1749/1749), done.\n",
            "Checking out files: 100% (14737/14737), done.\n"
          ],
          "name": "stdout"
        }
      ]
    },
    {
      "cell_type": "code",
      "metadata": {
        "colab": {
          "base_uri": "https://localhost:8080/"
        },
        "id": "dBFhz5l0qmqB",
        "outputId": "3d9f1654-62cb-4a56-aa21-4177005648ee"
      },
      "source": [
        "# 디렉토리의 파일 목록\r\n",
        "!ls nsmc -la"
      ],
      "execution_count": null,
      "outputs": [
        {
          "output_type": "stream",
          "text": [
            "total 38636\n",
            "drwxr-xr-x 5 root root     4096 Dec 25 16:24 .\n",
            "drwxr-xr-x 1 root root     4096 Dec 25 16:23 ..\n",
            "drwxr-xr-x 2 root root     4096 Dec 25 16:24 code\n",
            "drwxr-xr-x 8 root root     4096 Dec 25 16:24 .git\n",
            "-rw-r--r-- 1 root root  4893335 Dec 25 16:24 ratings_test.txt\n",
            "-rw-r--r-- 1 root root 14628807 Dec 25 16:24 ratings_train.txt\n",
            "-rw-r--r-- 1 root root 19515078 Dec 25 16:24 ratings.txt\n",
            "drwxr-xr-x 2 root root   458752 Dec 25 16:24 raw\n",
            "-rw-r--r-- 1 root root     2596 Dec 25 16:24 README.md\n",
            "-rw-r--r-- 1 root root    36746 Dec 25 16:24 synopses.json\n"
          ],
          "name": "stdout"
        }
      ]
    },
    {
      "cell_type": "code",
      "metadata": {
        "colab": {
          "base_uri": "https://localhost:8080/"
        },
        "id": "1j24kf78qpcB",
        "outputId": "5f1ca40d-5795-4388-93ff-e242cb8c2558"
      },
      "source": [
        "import pandas as pd\r\n",
        "# 판다스로 훈련셋과 테스트셋 데이터 로드\r\n",
        "train = pd.read_csv(\"nsmc/ratings_train.txt\", sep='\\t')\r\n",
        "dev = pd.read_csv(\"nsmc/ratings_test.txt\", sep='\\t') # test data를 dev dataset으로 사용\r\n",
        "\r\n",
        "print(train.shape)\r\n",
        "print(dev.shape)"
      ],
      "execution_count": null,
      "outputs": [
        {
          "output_type": "stream",
          "text": [
            "(150000, 3)\n",
            "(50000, 3)\n"
          ],
          "name": "stdout"
        }
      ]
    },
    {
      "cell_type": "code",
      "metadata": {
        "colab": {
          "base_uri": "https://localhost:8080/",
          "height": 359
        },
        "id": "AgCGDWK6qy-_",
        "outputId": "7b2166ca-ef18-4fd3-c400-7a52daa8b132"
      },
      "source": [
        "# 훈련셋의 앞부분 출력\r\n",
        "dev.head(10)"
      ],
      "execution_count": null,
      "outputs": [
        {
          "output_type": "execute_result",
          "data": {
            "text/html": [
              "<div>\n",
              "<style scoped>\n",
              "    .dataframe tbody tr th:only-of-type {\n",
              "        vertical-align: middle;\n",
              "    }\n",
              "\n",
              "    .dataframe tbody tr th {\n",
              "        vertical-align: top;\n",
              "    }\n",
              "\n",
              "    .dataframe thead th {\n",
              "        text-align: right;\n",
              "    }\n",
              "</style>\n",
              "<table border=\"1\" class=\"dataframe\">\n",
              "  <thead>\n",
              "    <tr style=\"text-align: right;\">\n",
              "      <th></th>\n",
              "      <th>id</th>\n",
              "      <th>document</th>\n",
              "      <th>label</th>\n",
              "    </tr>\n",
              "  </thead>\n",
              "  <tbody>\n",
              "    <tr>\n",
              "      <th>0</th>\n",
              "      <td>6270596</td>\n",
              "      <td>굳 ㅋ</td>\n",
              "      <td>1</td>\n",
              "    </tr>\n",
              "    <tr>\n",
              "      <th>1</th>\n",
              "      <td>9274899</td>\n",
              "      <td>GDNTOPCLASSINTHECLUB</td>\n",
              "      <td>0</td>\n",
              "    </tr>\n",
              "    <tr>\n",
              "      <th>2</th>\n",
              "      <td>8544678</td>\n",
              "      <td>뭐야 이 평점들은.... 나쁘진 않지만 10점 짜리는 더더욱 아니잖아</td>\n",
              "      <td>0</td>\n",
              "    </tr>\n",
              "    <tr>\n",
              "      <th>3</th>\n",
              "      <td>6825595</td>\n",
              "      <td>지루하지는 않은데 완전 막장임... 돈주고 보기에는....</td>\n",
              "      <td>0</td>\n",
              "    </tr>\n",
              "    <tr>\n",
              "      <th>4</th>\n",
              "      <td>6723715</td>\n",
              "      <td>3D만 아니었어도 별 다섯 개 줬을텐데.. 왜 3D로 나와서 제 심기를 불편하게 하죠??</td>\n",
              "      <td>0</td>\n",
              "    </tr>\n",
              "    <tr>\n",
              "      <th>5</th>\n",
              "      <td>7898805</td>\n",
              "      <td>음악이 주가 된, 최고의 음악영화</td>\n",
              "      <td>1</td>\n",
              "    </tr>\n",
              "    <tr>\n",
              "      <th>6</th>\n",
              "      <td>6315043</td>\n",
              "      <td>진정한 쓰레기</td>\n",
              "      <td>0</td>\n",
              "    </tr>\n",
              "    <tr>\n",
              "      <th>7</th>\n",
              "      <td>6097171</td>\n",
              "      <td>마치 미국애니에서 튀어나온듯한 창의력없는 로봇디자인부터가,고개를 젖게한다</td>\n",
              "      <td>0</td>\n",
              "    </tr>\n",
              "    <tr>\n",
              "      <th>8</th>\n",
              "      <td>8932678</td>\n",
              "      <td>갈수록 개판되가는 중국영화 유치하고 내용없음 폼잡다 끝남 말도안되는 무기에 유치한c...</td>\n",
              "      <td>0</td>\n",
              "    </tr>\n",
              "    <tr>\n",
              "      <th>9</th>\n",
              "      <td>6242223</td>\n",
              "      <td>이별의 아픔뒤에 찾아오는 새로운 인연의 기쁨 But, 모든 사람이 그렇지는 않네..</td>\n",
              "      <td>1</td>\n",
              "    </tr>\n",
              "  </tbody>\n",
              "</table>\n",
              "</div>"
            ],
            "text/plain": [
              "        id                                           document  label\n",
              "0  6270596                                                굳 ㅋ      1\n",
              "1  9274899                               GDNTOPCLASSINTHECLUB      0\n",
              "2  8544678             뭐야 이 평점들은.... 나쁘진 않지만 10점 짜리는 더더욱 아니잖아      0\n",
              "3  6825595                   지루하지는 않은데 완전 막장임... 돈주고 보기에는....      0\n",
              "4  6723715  3D만 아니었어도 별 다섯 개 줬을텐데.. 왜 3D로 나와서 제 심기를 불편하게 하죠??      0\n",
              "5  7898805                                 음악이 주가 된, 최고의 음악영화      1\n",
              "6  6315043                                            진정한 쓰레기      0\n",
              "7  6097171           마치 미국애니에서 튀어나온듯한 창의력없는 로봇디자인부터가,고개를 젖게한다      0\n",
              "8  8932678  갈수록 개판되가는 중국영화 유치하고 내용없음 폼잡다 끝남 말도안되는 무기에 유치한c...      0\n",
              "9  6242223     이별의 아픔뒤에 찾아오는 새로운 인연의 기쁨 But, 모든 사람이 그렇지는 않네..      1"
            ]
          },
          "metadata": {
            "tags": []
          },
          "execution_count": 24
        }
      ]
    },
    {
      "cell_type": "code",
      "metadata": {
        "id": "G0EbJ5v2lnmH"
      },
      "source": [
        "# dataframe을 list형태로 변경함.\r\n",
        "train_utterance = train['document'].values.tolist()\r\n",
        "dev_utterance = dev['document'].values.tolist()\r\n",
        "train_emotion = train['label'].values.tolist()\r\n",
        "dev_emotion = dev['label'].values.tolist()"
      ],
      "execution_count": null,
      "outputs": []
    },
    {
      "cell_type": "code",
      "metadata": {
        "colab": {
          "base_uri": "https://localhost:8080/"
        },
        "id": "XDf31ERrZiFW",
        "outputId": "b55b7e9d-9182-4101-b856-1bdb63829874"
      },
      "source": [
        " train['label'].value_counts()"
      ],
      "execution_count": null,
      "outputs": [
        {
          "output_type": "execute_result",
          "data": {
            "text/plain": [
              "0    75173\n",
              "1    74827\n",
              "Name: label, dtype: int64"
            ]
          },
          "metadata": {
            "tags": []
          },
          "execution_count": 26
        }
      ]
    },
    {
      "cell_type": "code",
      "metadata": {
        "id": "6VX25EphOBZu"
      },
      "source": [
        "# token 추가\r\n",
        "def token_input(utterance):\r\n",
        "  for i in range(len(utterance)):\r\n",
        "      utterance[i] = '[CLS] ' + str(utterance[i]) + ' [SEP] [PAD]' "
      ],
      "execution_count": null,
      "outputs": []
    },
    {
      "cell_type": "code",
      "metadata": {
        "id": "b3oT6jDnZTvY"
      },
      "source": [
        "# 문장에 token 적용\r\n",
        "token_input(train_utterance)\r\n",
        "token_input(dev_utterance)"
      ],
      "execution_count": null,
      "outputs": []
    },
    {
      "cell_type": "code",
      "metadata": {
        "id": "5n0Q-qv3KYN4",
        "colab": {
          "base_uri": "https://localhost:8080/",
          "height": 36
        },
        "outputId": "1c84795f-9f2e-464f-abb1-5c13068b29fc"
      },
      "source": [
        "# train과 dev dataset \r\n",
        "\"\"\"\r\n",
        "for i in range(len(train_utterance)):\r\n",
        "   train_utterance[i] = train_speaker[i] + ', ' + train_utterance[i]\r\n",
        "for i in range(len(dev_utterance)):\r\n",
        "   dev_utterance[i] = dev_speaker[i] + ', ' + dev_utterance[i]   \r\n",
        "\"\"\""
      ],
      "execution_count": null,
      "outputs": [
        {
          "output_type": "execute_result",
          "data": {
            "application/vnd.google.colaboratory.intrinsic+json": {
              "type": "string"
            },
            "text/plain": [
              "\"\\nfor i in range(len(train_utterance)):\\n   train_utterance[i] = train_speaker[i] + ', ' + train_utterance[i]\\nfor i in range(len(dev_utterance)):\\n   dev_utterance[i] = dev_speaker[i] + ', ' + dev_utterance[i]   \\n\""
            ]
          },
          "metadata": {
            "tags": []
          },
          "execution_count": 12
        }
      ]
    },
    {
      "cell_type": "code",
      "metadata": {
        "colab": {
          "base_uri": "https://localhost:8080/",
          "height": 315
        },
        "id": "8tFzFPAekFfr",
        "outputId": "e56c8485-c0a5-47f6-afcc-97b4be7a173d"
      },
      "source": [
        "# 문장의 길이 구하기\r\n",
        "import matplotlib.pyplot as plt\r\n",
        "print('리뷰의 최대 길이 :',max(len(l) for l in train_utterance))\r\n",
        "print('리뷰의 평균 길이 :',sum(map(len, train_utterance))/len(train_utterance))\r\n",
        "plt.hist([len(s) for s in train_utterance], bins=50)\r\n",
        "plt.xlabel('length of samples')\r\n",
        "plt.ylabel('number of samples')\r\n",
        "plt.show()"
      ],
      "execution_count": null,
      "outputs": [
        {
          "output_type": "stream",
          "text": [
            "리뷰의 최대 길이 : 164\n",
            "리뷰의 평균 길이 : 53.203453333333336\n"
          ],
          "name": "stdout"
        },
        {
          "output_type": "display_data",
          "data": {
            "image/png": "[encoded data removed]",
            "text/plain": [
              "<Figure size 432x288 with 1 Axes>"
            ]
          },
          "metadata": {
            "tags": [],
            "needs_background": "light"
          }
        }
      ]
    },
    {
      "cell_type": "code",
      "metadata": {
        "id": "siNMXKsWl4sT"
      },
      "source": [
        "# padding의 max length 설정\r\n",
        "MAX_LEN = 160"
      ],
      "execution_count": null,
      "outputs": []
    },
    {
      "cell_type": "code",
      "metadata": {
        "id": "MIJAheccwqUJ"
      },
      "source": [
        "# 토큰 적용, 인덱스 변경, 패딩 함수\r\n",
        "from keras.preprocessing.sequence import pad_sequences\r\n",
        "from transformers import BertModel, BertTokenizer\r\n",
        "def tokenize(dataset):\r\n",
        "  # 입력 토큰의 최대 시퀀스 길이\r\n",
        "  tokenized_utterance = [ str(sentence) for sentence in dataset ]\r\n",
        "  # token화 하기\r\n",
        "  tokenizer = BertTokenizer.from_pretrained('bert-base-multilingual-cased')\r\n",
        "  tokenized_utterance = [tokenizer.tokenize(sent) for sent in tokenized_utterance]\r\n",
        "  # 인덱스로 변환하기 \r\n",
        "  ids_utterance = [tokenizer.convert_tokens_to_ids(x) for x in tokenized_utterance] \r\n",
        "  # 패딩 채우기\r\n",
        "  ids_utterance = pad_sequences(ids_utterance, maxlen=MAX_LEN, dtype=\"long\", truncating=\"post\", padding=\"post\")\r\n",
        "  return ids_utterance"
      ],
      "execution_count": null,
      "outputs": []
    },
    {
      "cell_type": "code",
      "metadata": {
        "id": "lJ7FzYQkEj9x"
      },
      "source": [
        "# 함수 함수\r\n",
        "token_train_utterance = tokenize(train_utterance)\r\n",
        "token_dev_utterance = tokenize(dev_utterance)"
      ],
      "execution_count": null,
      "outputs": []
    },
    {
      "cell_type": "code",
      "metadata": {
        "id": "zl_5Uqhfi09U"
      },
      "source": [
        "# 어텐션 마스크 \r\n",
        "# 어텐션 마스크를 패딩이 아니면 1, 패딩이면 0으로 설정\r\n",
        "# 패딩 부분은 BERT 모델에서 어텐션을 수행하지 않아 속도 향상\r\n",
        "def mask_func(masklist, targetdata):\r\n",
        "  for seq in targetdata:\r\n",
        "    seq_mask = [float(i>0) for i in seq]\r\n",
        "    masklist.append(seq_mask)\r\n",
        "  print(masklist[0])"
      ],
      "execution_count": null,
      "outputs": []
    },
    {
      "cell_type": "code",
      "metadata": {
        "colab": {
          "base_uri": "https://localhost:8080/"
        },
        "id": "poavcWuFAR1z",
        "outputId": "2c71297c-7c5f-4cc2-bf72-9d70ff5226ca"
      },
      "source": [
        "# train과 dev data에 대해서 mask attention 적용 \r\n",
        "masks_train_utterance = []\r\n",
        "masks_dev_utterance = []\r\n",
        "mask_func(masks_train_utterance, token_train_utterance) \r\n",
        "mask_func(masks_dev_utterance, token_dev_utterance)"
      ],
      "execution_count": null,
      "outputs": [
        {
          "output_type": "stream",
          "text": [
            "[1.0, 1.0, 1.0, 1.0, 1.0, 1.0, 1.0, 1.0, 1.0, 1.0, 1.0, 1.0, 1.0, 1.0, 1.0, 1.0, 1.0, 0.0, 0.0, 0.0, 0.0, 0.0, 0.0, 0.0, 0.0, 0.0, 0.0, 0.0, 0.0, 0.0, 0.0, 0.0, 0.0, 0.0, 0.0, 0.0, 0.0, 0.0, 0.0, 0.0, 0.0, 0.0, 0.0, 0.0, 0.0, 0.0, 0.0, 0.0, 0.0, 0.0, 0.0, 0.0, 0.0, 0.0, 0.0, 0.0, 0.0, 0.0, 0.0, 0.0, 0.0, 0.0, 0.0, 0.0, 0.0, 0.0, 0.0, 0.0, 0.0, 0.0, 0.0, 0.0, 0.0, 0.0, 0.0, 0.0, 0.0, 0.0, 0.0, 0.0, 0.0, 0.0, 0.0, 0.0, 0.0, 0.0, 0.0, 0.0, 0.0, 0.0, 0.0, 0.0, 0.0, 0.0, 0.0, 0.0, 0.0, 0.0, 0.0, 0.0, 0.0, 0.0, 0.0, 0.0, 0.0, 0.0, 0.0, 0.0, 0.0, 0.0, 0.0, 0.0, 0.0, 0.0, 0.0, 0.0, 0.0, 0.0, 0.0, 0.0, 0.0, 0.0, 0.0, 0.0, 0.0, 0.0, 0.0, 0.0, 0.0, 0.0, 0.0, 0.0, 0.0, 0.0, 0.0, 0.0, 0.0, 0.0, 0.0, 0.0, 0.0, 0.0, 0.0, 0.0, 0.0, 0.0, 0.0, 0.0, 0.0, 0.0, 0.0, 0.0, 0.0, 0.0, 0.0, 0.0, 0.0, 0.0, 0.0, 0.0]\n",
            "[1.0, 1.0, 1.0, 1.0, 0.0, 0.0, 0.0, 0.0, 0.0, 0.0, 0.0, 0.0, 0.0, 0.0, 0.0, 0.0, 0.0, 0.0, 0.0, 0.0, 0.0, 0.0, 0.0, 0.0, 0.0, 0.0, 0.0, 0.0, 0.0, 0.0, 0.0, 0.0, 0.0, 0.0, 0.0, 0.0, 0.0, 0.0, 0.0, 0.0, 0.0, 0.0, 0.0, 0.0, 0.0, 0.0, 0.0, 0.0, 0.0, 0.0, 0.0, 0.0, 0.0, 0.0, 0.0, 0.0, 0.0, 0.0, 0.0, 0.0, 0.0, 0.0, 0.0, 0.0, 0.0, 0.0, 0.0, 0.0, 0.0, 0.0, 0.0, 0.0, 0.0, 0.0, 0.0, 0.0, 0.0, 0.0, 0.0, 0.0, 0.0, 0.0, 0.0, 0.0, 0.0, 0.0, 0.0, 0.0, 0.0, 0.0, 0.0, 0.0, 0.0, 0.0, 0.0, 0.0, 0.0, 0.0, 0.0, 0.0, 0.0, 0.0, 0.0, 0.0, 0.0, 0.0, 0.0, 0.0, 0.0, 0.0, 0.0, 0.0, 0.0, 0.0, 0.0, 0.0, 0.0, 0.0, 0.0, 0.0, 0.0, 0.0, 0.0, 0.0, 0.0, 0.0, 0.0, 0.0, 0.0, 0.0, 0.0, 0.0, 0.0, 0.0, 0.0, 0.0, 0.0, 0.0, 0.0, 0.0, 0.0, 0.0, 0.0, 0.0, 0.0, 0.0, 0.0, 0.0, 0.0, 0.0, 0.0, 0.0, 0.0, 0.0, 0.0, 0.0, 0.0, 0.0, 0.0, 0.0]\n"
          ],
          "name": "stdout"
        }
      ]
    },
    {
      "cell_type": "code",
      "metadata": {
        "id": "06f_kyszEpdM"
      },
      "source": [
        "\"\"\"\r\n",
        "import pandas as pd\r\n",
        "df = pd.DataFrame(friendsdata_train_dict, columns= ['utterance'])\r\n",
        "df_list = df.values.tolist()\r\n",
        "\"\"\""
      ],
      "execution_count": null,
      "outputs": []
    },
    {
      "cell_type": "code",
      "metadata": {
        "id": "6rnpPG-zqEtq"
      },
      "source": [
        "# 데이터에 tensor 적용\r\n",
        "from keras.preprocessing.sequence import pad_sequences\r\n",
        "from transformers import BertModel, BertTokenizer\r\n",
        "\r\n",
        "class Dataset():\r\n",
        "  def __init__(self, x, y, z):\r\n",
        "    self.utterance = x\r\n",
        "    self.emotion = y\r\n",
        "    self.mask = z\r\n",
        " \r\n",
        "  def __len__(self): \r\n",
        "    return len(self.utterance)\r\n",
        "\r\n",
        "  def __getitem__(self, idx):\r\n",
        "    input_tensor = torch.tensor(self.utterance[idx])\r\n",
        "    labels_tensor = torch.tensor(self.emotion[idx])\r\n",
        "    mask_tensor = torch.tensor(self.mask[idx])\r\n",
        "    return input_tensor,labels_tensor, mask_tensor"
      ],
      "execution_count": null,
      "outputs": []
    },
    {
      "cell_type": "code",
      "metadata": {
        "id": "CBWMuEb6_5hz"
      },
      "source": [
        "train_dataset = Dataset(token_train_utterance, train_emotion, masks_train_utterance)\r\n",
        "dev_dataset = Dataset(token_dev_utterance, dev_emotion, masks_dev_utterance)"
      ],
      "execution_count": null,
      "outputs": []
    },
    {
      "cell_type": "code",
      "metadata": {
        "id": "fZBpxRRHACi2"
      },
      "source": [
        "from torch.utils.data import Dataset\r\n",
        "from torch.utils.data import DataLoader\r\n",
        "train_dataloader = DataLoader(train_dataset, batch_size=32, shuffle=True)\r\n",
        "dev_dataloader = DataLoader(dev_dataset, batch_size=32, shuffle=True)"
      ],
      "execution_count": null,
      "outputs": []
    },
    {
      "cell_type": "markdown",
      "metadata": {
        "id": "uwn8v4Pry_h9"
      },
      "source": [
        "**Test dataset**"
      ]
    },
    {
      "cell_type": "code",
      "metadata": {
        "id": "XEDaXsoCzDP_"
      },
      "source": [
        "# test dataset load\r\n",
        "import csv\r\n",
        "dialogs = []\r\n",
        "\r\n",
        "with open('ko_data.csv', newline='', encoding='cp949') as csvfile:\r\n",
        "  dataread = csv.reader(csvfile)\r\n",
        "  for i,row in enumerate(dataread):\r\n",
        "    if i!=0:\r\n",
        "      dialogs.append([row[0], row[1]])\r\n",
        "\r\n",
        "# test data frame load\r\n",
        "df_test = pd.DataFrame(dialogs, columns=['Id','Sentence'])\r\n",
        "test_Id = df_test['Id'].values.tolist()\r\n",
        "test_utterance = df_test['Sentence'].values.tolist()"
      ],
      "execution_count": null,
      "outputs": []
    },
    {
      "cell_type": "code",
      "metadata": {
        "id": "O0FybwcvamHK"
      },
      "source": [
        "# tag cls, sep, pad 넣기\r\n",
        "token_input(test_utterance)"
      ],
      "execution_count": null,
      "outputs": []
    },
    {
      "cell_type": "code",
      "metadata": {
        "id": "8Pqw0edFTqs4"
      },
      "source": [
        "token_test_utterance = tokenize(test_utterance)"
      ],
      "execution_count": null,
      "outputs": []
    },
    {
      "cell_type": "code",
      "metadata": {
        "colab": {
          "base_uri": "https://localhost:8080/"
        },
        "id": "hIJxKQsZb02C",
        "outputId": "e8e58ad7-e1b9-4161-afbd-6cea72815a5b"
      },
      "source": [
        " # test mask id 생성\r\n",
        "masks_test_utterance = []\r\n",
        "mask_func(masks_test_utterance, token_test_utterance) "
      ],
      "execution_count": null,
      "outputs": [
        {
          "output_type": "stream",
          "text": [
            "[1.0, 1.0, 1.0, 1.0, 1.0, 1.0, 1.0, 1.0, 1.0, 1.0, 1.0, 0.0, 0.0, 0.0, 0.0, 0.0, 0.0, 0.0, 0.0, 0.0, 0.0, 0.0, 0.0, 0.0, 0.0, 0.0, 0.0, 0.0, 0.0, 0.0, 0.0, 0.0, 0.0, 0.0, 0.0, 0.0, 0.0, 0.0, 0.0, 0.0, 0.0, 0.0, 0.0, 0.0, 0.0, 0.0, 0.0, 0.0, 0.0, 0.0, 0.0, 0.0, 0.0, 0.0, 0.0, 0.0, 0.0, 0.0, 0.0, 0.0, 0.0, 0.0, 0.0, 0.0, 0.0, 0.0, 0.0, 0.0, 0.0, 0.0, 0.0, 0.0, 0.0, 0.0, 0.0, 0.0, 0.0, 0.0, 0.0, 0.0, 0.0, 0.0, 0.0, 0.0, 0.0, 0.0, 0.0, 0.0, 0.0, 0.0, 0.0, 0.0, 0.0, 0.0, 0.0, 0.0, 0.0, 0.0, 0.0, 0.0, 0.0, 0.0, 0.0, 0.0, 0.0, 0.0, 0.0, 0.0, 0.0, 0.0, 0.0, 0.0, 0.0, 0.0, 0.0, 0.0, 0.0, 0.0, 0.0, 0.0, 0.0, 0.0, 0.0, 0.0, 0.0, 0.0, 0.0, 0.0, 0.0, 0.0, 0.0, 0.0, 0.0, 0.0, 0.0, 0.0, 0.0, 0.0, 0.0, 0.0, 0.0, 0.0, 0.0, 0.0, 0.0, 0.0, 0.0, 0.0, 0.0, 0.0, 0.0, 0.0, 0.0, 0.0, 0.0, 0.0, 0.0, 0.0, 0.0, 0.0]\n"
          ],
          "name": "stdout"
        }
      ]
    },
    {
      "cell_type": "code",
      "metadata": {
        "id": "M2HMRASLZ0GE"
      },
      "source": [
        "# test 데이터를 텐서로 변환\r\n",
        "test_inputs = torch.tensor(token_test_utterance)\r\n",
        "test_masks = torch.tensor(masks_test_utterance)"
      ],
      "execution_count": null,
      "outputs": []
    },
    {
      "cell_type": "markdown",
      "metadata": {
        "id": "Z6gxWKi11OHV"
      },
      "source": [
        "##### **Hyper-parameters**"
      ]
    },
    {
      "cell_type": "code",
      "metadata": {
        "id": "vUY7pdLAyEDq"
      },
      "source": [
        "pretrained_weights = 'bert-base-multilingual-cased'\n",
        "learning_rate = 2e-5 # 1e-5\n",
        "n_epoch = 2"
      ],
      "execution_count": null,
      "outputs": []
    },
    {
      "cell_type": "markdown",
      "metadata": {
        "id": "nC1cs8JC3cYA"
      },
      "source": [
        "##### **Model**"
      ]
    },
    {
      "cell_type": "code",
      "metadata": {
        "id": "nVU9HqHc3Tsz"
      },
      "source": [
        "import torch.nn as nn\n",
        "from transformers import BertModel, BertTokenizer\n",
        "\n",
        "class Model(nn.Module):\n",
        "  def __init__(self):\n",
        "    super().__init__()\n",
        "    self.bert_model = BertModel.from_pretrained(pretrained_weights, num_labels=2)\n",
        "    self.linear = torch.nn.Linear(768, 2) \n",
        "\n",
        "  def forward(self, input_tensor, input_mask):\n",
        "    hidden_tensor = self.bert_model(input_tensor,attention_mask=input_mask)[0] # (bat, len, hid)\n",
        "    hidden_tensor = hidden_tensor[:, 0, :] # (bat, hid)\n",
        "    logit = self.linear(hidden_tensor)\n",
        "    return logit"
      ],
      "execution_count": null,
      "outputs": []
    },
    {
      "cell_type": "markdown",
      "metadata": {
        "id": "rztPJu1DJI_G"
      },
      "source": [
        "##### **Evaluation Metrics**"
      ]
    },
    {
      "cell_type": "code",
      "metadata": {
        "id": "273RBAszJMGd"
      },
      "source": [
        "from sklearn.metrics import precision_score, recall_score, f1_score\n",
        "\n",
        "def evaluate(true_list, pred_list):\n",
        "  print(pred_list)\n",
        "  print(true_list)\n",
        "  precision = precision_score(true_list, pred_list, average=None)\n",
        "  recall = recall_score(true_list, pred_list, average=None)\n",
        "  micro_f1 = f1_score(true_list, pred_list, average='micro')\n",
        "\n",
        "  # 출력 로짓과 라벨을 비교하여 정확도 계산\n",
        "  eval_accuracy = flat_accuracy(pred_list, true_list)\n",
        "  print('precision: ', ['%.4f' % v for v in precision])\n",
        "  print('recall:\\t\\t', ['%.4f' % v for v in recall])\n",
        "  print('micro_f1: %.6f' % micro_f1)\n",
        "  print(\"Accuracy: {0:.2f}\".format(eval_accuracy))"
      ],
      "execution_count": null,
      "outputs": []
    },
    {
      "cell_type": "markdown",
      "metadata": {
        "id": "y9RcP6vr1Whw"
      },
      "source": [
        "##### **Training**"
      ]
    },
    {
      "cell_type": "code",
      "metadata": {
        "colab": {
          "base_uri": "https://localhost:8080/"
        },
        "id": "Wh4bqgfSP6Wm",
        "outputId": "e01497a0-8dee-4f6b-c68a-319359f7dd22"
      },
      "source": [
        "# GPU 디바이스 이름 구함\r\n",
        "import tensorflow as tf\r\n",
        "device_name = tf.test.gpu_device_name()\r\n",
        "\r\n",
        "# GPU 디바이스 이름 검사\r\n",
        "if device_name == '/device:GPU:0':\r\n",
        "    print('Found GPU at: {}'.format(device_name))\r\n",
        "else:\r\n",
        "    raise SystemError('GPU device not found')"
      ],
      "execution_count": null,
      "outputs": [
        {
          "output_type": "stream",
          "text": [
            "Found GPU at: /device:GPU:0\n"
          ],
          "name": "stdout"
        }
      ]
    },
    {
      "cell_type": "code",
      "metadata": {
        "colab": {
          "base_uri": "https://localhost:8080/"
        },
        "id": "yxxDICLbP727",
        "outputId": "91e2b594-2099-418f-910e-f44e6af137ed"
      },
      "source": [
        "# 디바이스 설정\r\n",
        "if torch.cuda.is_available():    \r\n",
        "    device = torch.device(\"cuda\")\r\n",
        "    print('There are %d GPU(s) available.' % torch.cuda.device_count())\r\n",
        "    print('We will use the GPU:', torch.cuda.get_device_name(0))\r\n",
        "else:\r\n",
        "    device = torch.device(\"cpu\")\r\n",
        "    print('No GPU available, using the CPU instead.')"
      ],
      "execution_count": null,
      "outputs": [
        {
          "output_type": "stream",
          "text": [
            "There are 1 GPU(s) available.\n",
            "We will use the GPU: Tesla V100-SXM2-16GB\n"
          ],
          "name": "stdout"
        }
      ]
    },
    {
      "cell_type": "code",
      "metadata": {
        "colab": {
          "base_uri": "https://localhost:8080/",
          "height": 53
        },
        "id": "kutNRuQScPQY",
        "outputId": "60f1a0a7-6f8f-4ecf-cb0a-743d2f532ed8"
      },
      "source": [
        "\"\"\"\r\n",
        "n_epoch = 2\r\n",
        "for i_epoch in range(0, n_epoch):\r\n",
        "  for batch_idx, batch_data in enumerate(dev_dataloader): \r\n",
        "    b_input_ids, b_labels, b_input_mask = batch_data\r\n",
        "    print(b_input_ids.size()) # torch.Size([32, 160])\r\n",
        "    print(b_labels.size())  # torch.Size([32])\r\n",
        "    print(b_input_mask.size()) #torch.Size([32, 160])\r\n",
        "\"\"\"    "
      ],
      "execution_count": null,
      "outputs": [
        {
          "output_type": "execute_result",
          "data": {
            "application/vnd.google.colaboratory.intrinsic+json": {
              "type": "string"
            },
            "text/plain": [
              "'\\nn_epoch = 2\\nfor i_epoch in range(0, n_epoch):\\n  for batch_idx, batch_data in enumerate(dev_dataloader): \\n    b_input_ids, b_labels, b_input_mask = batch_data\\n    print(b_input_ids.size()) # torch.Size([32, 160])\\n    print(b_labels.size())  # torch.Size([32])\\n    print(b_input_mask.size()) #torch.Size([32, 160])\\n'"
            ]
          },
          "metadata": {
            "tags": []
          },
          "execution_count": 49
        }
      ]
    },
    {
      "cell_type": "code",
      "metadata": {
        "id": "nVsAbGvQjIeO"
      },
      "source": [
        "# 시간 표시 함수\r\n",
        "def format_time(elapsed):\r\n",
        "\r\n",
        "    # 반올림\r\n",
        "    elapsed_rounded = int(round((elapsed)))\r\n",
        "    \r\n",
        "    # hh:mm:ss으로 형태 변경\r\n",
        "    return str(datetime.timedelta(seconds=elapsed_rounded))"
      ],
      "execution_count": null,
      "outputs": []
    },
    {
      "cell_type": "code",
      "metadata": {
        "id": "2pSuCrbO2E6i"
      },
      "source": [
        "# 정확도 계산 함수\r\n",
        "def flat_accuracy(preds, labels):\r\n",
        "    pred_flat = preds.flatten()\r\n",
        "    labels_flat = labels.flatten()\r\n",
        "    return np.sum(pred_flat == labels_flat) / len(labels_flat)"
      ],
      "execution_count": null,
      "outputs": []
    },
    {
      "cell_type": "code",
      "metadata": {
        "colab": {
          "base_uri": "https://localhost:8080/"
        },
        "id": "gvetI0DNysM5",
        "outputId": "3edef89d-2fea-4953-c5a8-1a2e3c31f664"
      },
      "source": [
        "import time\n",
        "import datetime\n",
        "import os\n",
        "os.environ['CUDA_VISIBLE_DEVICES'] = '0'\n",
        "import torch\n",
        "from tqdm import tqdm_notebook # tqdm_notebook 진행 표시바\n",
        "import numpy as np\n",
        " \n",
        "batch_size=32\n",
        "model = Model() #정의된 모델 수행\n",
        "model.cuda()\n",
        "criterion = torch.nn.CrossEntropyLoss() # LogSoftmax & NLLLoss, tf.nn.weighted_cross_entropy_with_logits\n",
        "#class_weight = torch.FloatTensor(weights).cuda()\n",
        "#criterion = torch.nn.CrossEntropyLoss(weight = class_weight)\n",
        "optimizer = torch.optim.Adam(model.parameters(), learning_rate) #gradient descent 알고리즘 : Adam\n",
        "\n",
        "for i_epoch in range(n_epoch + 1):\n",
        "  print('i_epoch:', i_epoch)\n",
        "  train_loss = 0 \n",
        "  model.train()\n",
        "  for batch_idx, batch_data in enumerate(train_dataloader): \n",
        "\n",
        "    # 배치를 GPU에 넣음\n",
        "    batch_data = tuple(t.to(device) for t in batch_data)\n",
        "    \n",
        "    # 배치에서 데이터 추출\n",
        "    b_input_ids, b_labels, b_input_mask = batch_data\n",
        "\n",
        "    # 배치에서 데이터 추출\n",
        "    logit = model(b_input_ids, b_input_mask)\n",
        "    batch_loss = criterion(logit, b_labels)\n",
        "    train_loss += batch_loss.item()\n",
        "    \n",
        "    model.zero_grad()\n",
        "    batch_loss.backward()\n",
        "    optimizer.step()\n",
        "    optimizer.zero_grad()\n",
        "\n",
        "  #시작 시간 설정\n",
        "  t0 = time.time()\n",
        "\n",
        "  # 평가모드로 변경\n",
        "  bert_predicted = []\n",
        "  all_logits = []\n",
        "  model.eval()\n",
        "  pred_list, true_list = np.array([]), np.array([])\n",
        "  if torch.cuda.is_available():\n",
        "    for batch_idx, batch_data in enumerate(dev_dataloader):\n",
        "      # 배치를 GPU에 넣음\n",
        "      batch_data = tuple(t1.to(device) for t1 in batch_data)\n",
        "      # 배치에서 데이터 추출\n",
        "      b_input_ids, b_labels, b_input_mask = batch_data\n",
        "      logit = model(b_input_ids, b_input_mask)\n",
        "      _, max_idx = torch.max(logit, dim=-1) # tensor\n",
        "    \n",
        "      numpy_max_idx = max_idx.detach().cpu().numpy() \n",
        "      b_labels = b_labels.detach().cpu().numpy() \n",
        "\n",
        "      pred_list = np.append(pred_list, numpy_max_idx)\n",
        "      true_list = np.append(true_list, b_labels)\n",
        "    \n",
        "  evaluate(pred_list, true_list) # print results"
      ],
      "execution_count": null,
      "outputs": [
        {
          "output_type": "stream",
          "text": [
            "i_epoch: 0\n",
            "[1. 1. 0. ... 0. 0. 1.]\n",
            "[0. 0. 0. ... 1. 0. 0.]\n",
            "precision:  ['0.8365', '0.8755']\n",
            "recall:\t\t ['0.8689', '0.8445']\n",
            "micro_f1: 0.856180\n",
            "Accuracy: 0.86\n",
            "i_epoch: 1\n",
            "[0. 1. 1. ... 1. 1. 1.]\n",
            "[1. 1. 1. ... 1. 1. 1.]\n",
            "precision:  ['0.8390', '0.8975']\n",
            "recall:\t\t ['0.8898', '0.8497']\n",
            "micro_f1: 0.868460\n",
            "Accuracy: 0.87\n",
            "i_epoch: 2\n",
            "[0. 0. 1. ... 0. 1. 1.]\n",
            "[1. 1. 1. ... 1. 1. 1.]\n",
            "precision:  ['0.8425', '0.8961']\n",
            "recall:\t\t ['0.8889', '0.8522']\n",
            "micro_f1: 0.869480\n",
            "Accuracy: 0.87\n"
          ],
          "name": "stdout"
        }
      ]
    },
    {
      "cell_type": "markdown",
      "metadata": {
        "id": "Y5Hh_8sUIFIn"
      },
      "source": [
        "##### **Labeling**\n"
      ]
    },
    {
      "cell_type": "code",
      "metadata": {
        "id": "aTYyt9G4Cp7W"
      },
      "source": [
        "# 문장 테스트\r\n",
        "def test_sentences(inputs, masks):\r\n",
        "    \r\n",
        "    # 평가모드로 변경\r\n",
        "    model.eval()\r\n",
        "\r\n",
        "    # 데이터를 GPU에 넣음\r\n",
        "    b_input_ids = inputs.to(device)\r\n",
        "    b_input_mask = masks.to(device)\r\n",
        "\r\n",
        "    # 그래디언트 계산 안함\r\n",
        "    with torch.no_grad():     \r\n",
        "        # Forward 수행\r\n",
        "        outputs = model(b_input_ids, b_input_mask)\r\n",
        "    # 로스 구함\r\n",
        "    logits = outputs[0]\r\n",
        "\r\n",
        "    # CPU로 데이터 이동\r\n",
        "    #logits = logits.detach().cpu().numpy()\r\n",
        "    \r\n",
        "    return logits"
      ],
      "execution_count": null,
      "outputs": []
    },
    {
      "cell_type": "code",
      "metadata": {
        "id": "zt7w5v0ZCsRE"
      },
      "source": [
        "pred_label=[]\r\n",
        "for i in range(len(test_inputs)):\r\n",
        "  input_id = test_inputs[i].unsqueeze(0)\r\n",
        "  input_mask =  test_masks[i].unsqueeze(0)\r\n",
        "  logits = test_sentences(input_id,input_mask)\r\n",
        "  _, max_idx = torch.max(logits, dim=-1) # tensor\r\n",
        "  pred_emotion = max_idx.tolist()\r\n",
        "  pred_label.append(pred_emotion)"
      ],
      "execution_count": null,
      "outputs": []
    },
    {
      "cell_type": "code",
      "metadata": {
        "colab": {
          "base_uri": "https://localhost:8080/"
        },
        "id": "zAwvLhpKCvOH",
        "outputId": "0e4a148c-05f5-4f18-894e-81c8f6bb9f66"
      },
      "source": [
        "df = pd.DataFrame(df_test, columns=['Id'])\r\n",
        "df['Predicted'] = pred_label\r\n",
        "print(df)"
      ],
      "execution_count": null,
      "outputs": [
        {
          "output_type": "stream",
          "text": [
            "          Id  Predicted\n",
            "0          0          1\n",
            "1          1          0\n",
            "2          2          0\n",
            "3          3          1\n",
            "4          4          0\n",
            "...      ...        ...\n",
            "11182  11182          1\n",
            "11183  11183          0\n",
            "11184  11184          1\n",
            "11185  11185          1\n",
            "11186  11186          0\n",
            "\n",
            "[11187 rows x 2 columns]\n"
          ],
          "name": "stdout"
        }
      ]
    },
    {
      "cell_type": "code",
      "metadata": {
        "id": "Ez31waPKCxz_"
      },
      "source": [
        "df.to_csv(\"test_naver_sentiment.csv\", sep=\",\",index=False)"
      ],
      "execution_count": null,
      "outputs": []
    }
  ]
}